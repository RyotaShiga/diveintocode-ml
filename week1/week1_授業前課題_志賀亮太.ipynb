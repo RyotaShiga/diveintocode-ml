{
 "cells": [
  {
   "cell_type": "markdown",
   "metadata": {},
   "source": [
    "# Week1_授業前課題"
   ]
  },
  {
   "cell_type": "markdown",
   "metadata": {},
   "source": [
    "# 問題１"
   ]
  },
  {
   "cell_type": "code",
   "execution_count": 56,
   "metadata": {},
   "outputs": [
    {
     "name": "stdout",
     "output_type": "stream",
     "text": [
      "厚さ： 703687441.77664メートル\n"
     ]
    }
   ],
   "source": [
    "\n",
    "THICKNESS = 0.00008\n",
    "\n",
    "folded_thickness = THICKNESS*2**43\n",
    "\n",
    "print(\"厚さ： {}メートル\".format(folded_thickness))\n",
    "\n"
   ]
  },
  {
   "cell_type": "markdown",
   "metadata": {},
   "source": [
    "# 問題2"
   ]
  },
  {
   "cell_type": "code",
   "execution_count": 57,
   "metadata": {},
   "outputs": [
    {
     "name": "stdout",
     "output_type": "stream",
     "text": [
      "厚さ: 70.37万キロメートル\n",
      "月に届く\n"
     ]
    }
   ],
   "source": [
    "\n",
    "print(\"厚さ: {:.2f}万キロメートル\".format(folded_thickness/10000000))\n",
    "\n",
    "import numpy as  np\n",
    "#地球から月までの距離は最大で40万キロメートル\n",
    "max_distance_moon = 40 * (10** 7)\n",
    "#月に届くか否か判定\n",
    "print(np.where(folded_thickness >= max_distance_moon,\n",
    "               \"月に届く\",\"月に届かない\" ))\n",
    "\n"
   ]
  },
  {
   "cell_type": "markdown",
   "metadata": {},
   "source": [
    "# 問題3"
   ]
  },
  {
   "cell_type": "code",
   "execution_count": 14,
   "metadata": {},
   "outputs": [
    {
     "name": "stdout",
     "output_type": "stream",
     "text": [
      "厚さ: 70.37万キロメートル\n"
     ]
    }
   ],
   "source": [
    "\n",
    "for i in range(43):\n",
    "    if i == 0:\n",
    "            folded_thickness = THICKNESS * 2\n",
    "    else:\n",
    "        folded_thickness *= 2\n",
    "\n",
    "print(\"厚さ: {:.2f}万キロメートル\".format(folded_thickness/10000000))\n"
   ]
  },
  {
   "cell_type": "markdown",
   "metadata": {},
   "source": [
    "# 問題4"
   ]
  },
  {
   "cell_type": "code",
   "execution_count": 60,
   "metadata": {},
   "outputs": [
    {
     "name": "stdout",
     "output_type": "stream",
     "text": [
      "厚さ: 70.37万キロメートル\n",
      "time : 0.0002789497375488281[s]\n",
      "厚さ: 70.37万キロメートル\n",
      "time : 0.0001239776611328125[s]\n"
     ]
    }
   ],
   "source": [
    "\n",
    "#ループ計算を実行する関数\n",
    "def loop_calculate(THICKNESS=0.00008,loop=43):    \n",
    "    for i in range(loop):\n",
    "        if i == 0:\n",
    "                folded_thickness = THICKNESS * 2\n",
    "        else:\n",
    "            folded_thickness *= 2\n",
    "    return folded_thickness\n",
    "    \n",
    "\n",
    "\n",
    "#べき乗計算を実行する処理\n",
    "def bekijyo_calculate(THICKNESS=0.00008,beki=43):\n",
    "    folded_thickness = THICKNESS*2**beki\n",
    "    return folded_thickness\n",
    "\n",
    "    \n",
    "import time \n",
    "#ループ計算の処理時間計測\n",
    "start = time.time()\n",
    "print(\"厚さ: {:.2f}万キロメートル\".format(loop_calculate()/10000000))\n",
    "elapsed_time = time.time() - start\n",
    "print(\"time : {}[s]\".format(elapsed_time))\n",
    "\n",
    "#べき乗計算の処理時間計測\n",
    "start = time.time()\n",
    "print(\"厚さ: {:.2f}万キロメートル\".format(bekijyo_calculate()/10000000))\n",
    "elapsed_time = time.time() - start\n",
    "print(\"time : {}[s]\".format(elapsed_time))\n",
    "    \n"
   ]
  },
  {
   "cell_type": "markdown",
   "metadata": {},
   "source": [
    "以上よりべき乗計算の方が処理速度が速く、\n",
    "べき乗計算処理の書き方の方が良いということがわかる"
   ]
  },
  {
   "cell_type": "markdown",
   "metadata": {},
   "source": [
    "# 問題5"
   ]
  },
  {
   "cell_type": "code",
   "execution_count": 61,
   "metadata": {},
   "outputs": [
    {
     "name": "stdout",
     "output_type": "stream",
     "text": [
      "44\n"
     ]
    }
   ],
   "source": [
    "#ループ処理を、計算結果をリストに保存するように改良\n",
    "def loop_calculate_save(THICKNESS=0.00008,loop=43):\n",
    "    calc_list = []\n",
    "    calc_list.append(THICKNESS)\n",
    "    for i in range(loop):\n",
    "        if i == 0:\n",
    "                folded_thickness = THICKNESS * 2\n",
    "                calc_list.append(folded_thickness)\n",
    "                \n",
    "        else:\n",
    "            folded_thickness *= 2\n",
    "            calc_list.append(folded_thickness)\n",
    "            \n",
    "    return calc_list\n",
    "\n",
    "#リストに44個の値が格納されていることを確認\n",
    "print(len(loop_calculate_save()))\n",
    "\n",
    "\n",
    "\n",
    "\n",
    "\n"
   ]
  },
  {
   "cell_type": "markdown",
   "metadata": {},
   "source": [
    "# 問題6"
   ]
  },
  {
   "cell_type": "code",
   "execution_count": 62,
   "metadata": {},
   "outputs": [
    {
     "data": {
      "image/png": "[encoded data removed]",
      "text/plain": [
       "<Figure size 432x288 with 1 Axes>"
      ]
     },
     "metadata": {
      "needs_background": "light"
     },
     "output_type": "display_data"
    }
   ],
   "source": [
    "import matplotlib.pyplot as plt\n",
    "%matplotlib inline\n",
    "\n",
    "calc_list = loop_calculate_save()\n",
    "plt.plot(calc_list)\n",
    "\n",
    "plt.title(\"thickness of folded paper\")\n",
    "plt.xlabel(\"number of folds\")\n",
    "plt.ylabel(\"thickness[m]\")\n",
    "plt.show()"
   ]
  },
  {
   "cell_type": "markdown",
   "metadata": {},
   "source": [
    "# 問題7(1)"
   ]
  },
  {
   "cell_type": "code",
   "execution_count": 46,
   "metadata": {},
   "outputs": [
    {
     "data": {
      "image/png": "[encoded data removed]",
      "text/plain": [
       "<Figure size 432x288 with 1 Axes>"
      ]
     },
     "metadata": {
      "needs_background": "light"
     },
     "output_type": "display_data"
    }
   ],
   "source": [
    "calc_list = loop_calculate_save()\n",
    "plt.plot(calc_list,color='b')\n",
    "\n",
    "plt.title(\"thickness of folded paper\")\n",
    "plt.xlabel(\"number of folds\")\n",
    "plt.ylabel(\"thickness[m]\")\n",
    "plt.show()"
   ]
  },
  {
   "cell_type": "markdown",
   "metadata": {},
   "source": [
    "# 問題7(2)"
   ]
  },
  {
   "cell_type": "code",
   "execution_count": 64,
   "metadata": {},
   "outputs": [
    {
     "data": {
      "image/png": "[encoded data removed]",
      "text/plain": [
       "<Figure size 432x288 with 1 Axes>"
      ]
     },
     "metadata": {
      "needs_background": "light"
     },
     "output_type": "display_data"
    }
   ],
   "source": [
    "calc_list = loop_calculate_save()\n",
    "plt.plot(calc_list,color='b',linewidth=6)\n",
    "\n",
    "plt.title(\"thickness of folded paper\")\n",
    "plt.xlabel(\"number of folds\")\n",
    "plt.ylabel(\"thickness[m]\")\n",
    "plt.show()"
   ]
  },
  {
   "cell_type": "markdown",
   "metadata": {},
   "source": [
    "# 問題7(3)"
   ]
  },
  {
   "cell_type": "code",
   "execution_count": 65,
   "metadata": {},
   "outputs": [
    {
     "data": {
      "image/png": "[encoded data removed]",
      "text/plain": [
       "<Figure size 432x288 with 1 Axes>"
      ]
     },
     "metadata": {
      "needs_background": "light"
     },
     "output_type": "display_data"
    }
   ],
   "source": [
    "calc_list = loop_calculate_save()\n",
    "plt.plot(calc_list,color='b',linewidth=6,label='thickness',linestyle='-.')\n",
    "\n",
    "plt.title(\"thickness of folded paper\")\n",
    "plt.xlabel(\"number of folds\")\n",
    "plt.ylabel(\"thickness[m]\")\n",
    "plt.legend(loc='upper left')\n",
    "plt.show()"
   ]
  }
 ],
 "metadata": {
  "kernelspec": {
   "display_name": "Python 3",
   "language": "python",
   "name": "python3"
  },
  "language_info": {
   "codemirror_mode": {
    "name": "ipython",
    "version": 3
   },
   "file_extension": ".py",
   "mimetype": "text/x-python",
   "name": "python",
   "nbconvert_exporter": "python",
   "pygments_lexer": "ipython3",
   "version": "3.7.3"
  }
 },
 "nbformat": 4,
 "nbformat_minor": 2
}
