{
 "cells": [
  {
   "cell_type": "markdown",
   "metadata": {},
   "source": [
    "# 【問題】栗まんじゅうが太陽系を覆う日"
   ]
  },
  {
   "cell_type": "code",
   "execution_count": 1,
   "metadata": {},
   "outputs": [
    {
     "name": "stdout",
     "output_type": "stream",
     "text": [
      "6\n"
     ]
    }
   ],
   "source": [
    "#taisyoubutsuを埋めるのに必要なくりの個数\n",
    "def numbercalc(taisyoubutsu,kuri=1):\n",
    "    kuri_num = 1\n",
    "    kuri_all = 0\n",
    "    i = 0#増殖回数\n",
    "    \n",
    "    while taisyoubutsu > kuri_all:\n",
    "        kuri_num = kuri_num * 2#くりの個数\n",
    "        kuri_all = kuri_num * kuri#くりの個数＊くりの体積\n",
    "        i +=1\n",
    "    return i#増殖回数を返す\n",
    "print(numbercalc(64))#体積が６４に達するまでの増殖回数"
   ]
  },
  {
   "cell_type": "code",
   "execution_count": 4,
   "metadata": {},
   "outputs": [
    {
     "name": "stdout",
     "output_type": "stream",
     "text": [
      "増殖回数:168回\n",
      "840分後に太陽系を埋め尽くす\n"
     ]
    }
   ],
   "source": [
    "#出典：https://again.lunaclear.com/knowledge/science/t124/\n",
    "import numpy as np\n",
    "taiyou_r = 3.9924e+16#直径\n",
    "taiyou_taiseki = (4/3) *np.pi*taiyou_r**3#体積\n",
    "manjyu_zosyoku = numbercalc(taiyou_taiseki)#太陽系を埋め尽くすのに必要な増殖回数\n",
    "print('増殖回数:{}回'.format(manjyu_zosyoku))\n",
    "print('{}分後に太陽系を埋め尽くす'.format(manjyu_zosyoku*5))#増殖回数 * 5m"
   ]
  },
  {
   "cell_type": "code",
   "execution_count": 37,
   "metadata": {},
   "outputs": [],
   "source": [
    "def calcminute(calcdef, taisyo_r):\n",
    "    taisyo_taiseki = (4/3) *np.pi*taisyo_r**3\n",
    "    #print(np.array(taisyo_taiseki).shape)\n",
    "    manjyu_zosyoku = calcdef(np.array(taisyo_taiseki))\n",
    "    #print(np.array(manjyu_zosyoku).shape)\n",
    "    #print('増殖回数:{}回'.format(manjyu_zosyoku))\n",
    "    return np.array(manjyu_zosyoku)*5\n",
    "    \n",
    "    "
   ]
  },
  {
   "cell_type": "code",
   "execution_count": 13,
   "metadata": {},
   "outputs": [
    {
     "name": "stdout",
     "output_type": "stream",
     "text": [
      "東京ドームは130分後にまんじゅうに埋め尽くされる\n"
     ]
    }
   ],
   "source": [
    "#東京ドームを球状と仮定した場合\n",
    "#東京ドームの直系：244m\n",
    "tokyo_r = 244\n",
    "zosyoku_minute = calcminute(numbercalc, tokyo_r)\n",
    "print('東京ドームは{}分後にまんじゅうに埋め尽くされる'.format(zosyoku_minute))"
   ]
  },
  {
   "cell_type": "code",
   "execution_count": 45,
   "metadata": {},
   "outputs": [],
   "source": [
    " #複数の対象ぶつに対応した関数\n",
    "def numbercalc_updated(taisyoubutsu,kuri=1):\n",
    "    zosyoku_nums = []\n",
    "    for taisyo in taisyoubutsu:\n",
    "        \n",
    "        kuri_num = 1\n",
    "        kuri_all = 0\n",
    "        i = 0#増殖回数\n",
    "\n",
    "        while taisyo > kuri_all:\n",
    "            kuri_num = kuri_num * 2#くりの個数\n",
    "            kuri_all = kuri_num * kuri#くりの個数＊くりの体積\n",
    "            i +=1\n",
    "        zosyoku_nums.append(i)#増殖回数を返す\n",
    "    #print(np.array(zosyoku_nums).shape)\n",
    "    return zosyoku_nums"
   ]
  },
  {
   "cell_type": "code",
   "execution_count": 46,
   "metadata": {},
   "outputs": [
    {
     "data": {
      "text/plain": [
       "Text(0.5, 1.0, 'minutes transition of full manzyu')"
      ]
     },
     "execution_count": 46,
     "metadata": {},
     "output_type": "execute_result"
    },
    {
     "data": {
      "image/png": "[encoded data removed]",
      "text/plain": [
       "<Figure size 432x288 with 1 Axes>"
      ]
     },
     "metadata": {
      "needs_background": "light"
     },
     "output_type": "display_data"
    }
   ],
   "source": [
    "import matplotlib.pyplot as plt\n",
    "%matplotlib inline\n",
    "\n",
    "plt.plot(np.arange(1,1000), calcminute(numbercalc_updated,\n",
    "                                       np.arange(1,1000)))\n",
    "plt.xlabel('tyokkei[m]')\n",
    "plt.ylabel('minutes[m]')\n",
    "plt.title('minutes transition of full manzyu')"
   ]
  },
  {
   "cell_type": "code",
   "execution_count": null,
   "metadata": {},
   "outputs": [],
   "source": []
  }
 ],
 "metadata": {
  "kernelspec": {
   "display_name": "Python 3",
   "language": "python",
   "name": "python3"
  },
  "language_info": {
   "codemirror_mode": {
    "name": "ipython",
    "version": 3
   },
   "file_extension": ".py",
   "mimetype": "text/x-python",
   "name": "python",
   "nbconvert_exporter": "python",
   "pygments_lexer": "ipython3",
   "version": "3.7.3"
  }
 },
 "nbformat": 4,
 "nbformat_minor": 2
}
