{
 "cells": [
  {
   "cell_type": "markdown",
   "metadata": {},
   "source": [
    "# 問題1 富士山を超える最小のおる回数"
   ]
  },
  {
   "cell_type": "code",
   "execution_count": 7,
   "metadata": {},
   "outputs": [],
   "source": [
    "FOLD_THICKNESS = 0.00008\n",
    "import math\n",
    "import numpy as np\n",
    "#obj - ft*2**num=0\n",
    "#obj = ft*2**num\n",
    "#obj/ft = 2**num\n",
    "#log2(obj/ft) = num\n",
    "def calcfoldnum(obj,ft):\n",
    "    return math.ceil(np.log2(obj/ft))\n",
    "    "
   ]
  },
  {
   "cell_type": "code",
   "execution_count": 13,
   "metadata": {},
   "outputs": [
    {
     "name": "stdout",
     "output_type": "stream",
     "text": [
      "最小の回数は26回\n"
     ]
    }
   ],
   "source": [
    "FUJI = 3776\n",
    "print('最小の回数は{}回'.format(calcfoldnum(FUJI,FOLD_THICKNESS)))"
   ]
  },
  {
   "cell_type": "code",
   "execution_count": 11,
   "metadata": {},
   "outputs": [
    {
     "name": "stdout",
     "output_type": "stream",
     "text": [
      "2684.35456\n",
      "5368.70912\n"
     ]
    }
   ],
   "source": [
    "#確認\n",
    "print(FOLD_THICKNESS * 2**25)\n",
    "print(FOLD_THICKNESS * 2**26)"
   ]
  },
  {
   "cell_type": "markdown",
   "metadata": {},
   "source": [
    "# 問題2 任意の厚さに対応した関数を作成"
   ]
  },
  {
   "cell_type": "markdown",
   "metadata": {},
   "source": [
    "すでに作成済み。問題1の関数「calcfoldnum」を参照"
   ]
  },
  {
   "cell_type": "code",
   "execution_count": 16,
   "metadata": {},
   "outputs": [
    {
     "name": "stdout",
     "output_type": "stream",
     "text": [
      "プロキシマケンタウリに届く最小の回数は69回\n"
     ]
    }
   ],
   "source": [
    "#最も近い太陽以外の恒星\n",
    "#プロキシマケンタウリ：4.2光年\n",
    "#3.974e+16m\n",
    "print('プロキシマケンタウリに届く最小の回数は{}回'\\\n",
    "      .format(calcfoldnum(3.974e+16,FOLD_THICKNESS)))"
   ]
  },
  {
   "cell_type": "markdown",
   "metadata": {},
   "source": [
    "# 問題3 必要な紙の長さ"
   ]
  },
  {
   "cell_type": "code",
   "execution_count": 20,
   "metadata": {},
   "outputs": [],
   "source": [
    "def calcfoldcan(tf,n):\n",
    "    return np.pi * tf * (2**n + 4)*(2**n - 1) / 6\n",
    "\n"
   ]
  },
  {
   "cell_type": "code",
   "execution_count": 22,
   "metadata": {},
   "outputs": [
    {
     "name": "stdout",
     "output_type": "stream",
     "text": [
      "3.240919444170781e+21\n",
      "188646348487.24014\n",
      "1.4595803601100348e+37\n"
     ]
    }
   ],
   "source": [
    "MOON = 384400 * 1000\n",
    "KENTAURI = 3.974e+16\n",
    "fuji_num =calcfoldnum(FUJI,FOLD_THICKNESS)\n",
    "moon_num = calcfoldnum(MOON,FOLD_THICKNESS)\n",
    "kentauri_num = calcfoldnum(KENTAURI,FOLD_THICKNESS)\n",
    "\n",
    "#月に届くために必要なかみの長さ\n",
    "print(calcfoldcan(FOLD_THICKNESS, moon_num))\n",
    "#富士山に届くために必要なかみの長さ\n",
    "print(calcfoldcan(FOLD_THICKNESS, fuji_num))\n",
    "#恒星に届くために必要なかみの長さ\n",
    "print(calcfoldcan(FOLD_THICKNESS, kentauri_num))"
   ]
  },
  {
   "cell_type": "code",
   "execution_count": null,
   "metadata": {},
   "outputs": [],
   "source": []
  }
 ],
 "metadata": {
  "kernelspec": {
   "display_name": "Python 3",
   "language": "python",
   "name": "python3"
  },
  "language_info": {
   "codemirror_mode": {
    "name": "ipython",
    "version": 3
   },
   "file_extension": ".py",
   "mimetype": "text/x-python",
   "name": "python",
   "nbconvert_exporter": "python",
   "pygments_lexer": "ipython3",
   "version": "3.7.3"
  }
 },
 "nbformat": 4,
 "nbformat_minor": 2
}
