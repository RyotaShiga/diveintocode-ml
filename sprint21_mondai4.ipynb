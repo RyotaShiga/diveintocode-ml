{
 "cells": [
  {
   "cell_type": "code",
   "execution_count": 2,
   "metadata": {},
   "outputs": [],
   "source": [
    "mini_dataset = \\\n",
    "  [\"This movie is very good.\",\n",
    "  \"This film is a good\",\n",
    "  \"Very bad. Very, very bad.\"]"
   ]
  },
  {
   "cell_type": "code",
   "execution_count": 15,
   "metadata": {},
   "outputs": [
    {
     "name": "stdout",
     "output_type": "stream",
     "text": [
      "[['This', 'movie', 'is', 'very', 'good'], ['This', 'film', 'is', 'a', 'good'], ['Very', 'bad', 'Very', 'very', 'bad']]\n"
     ]
    }
   ],
   "source": [
    "data_set = []\n",
    "for s in mini_dataset:\n",
    "    s = s.replace('.', '')\n",
    "    s = s.replace(',', '')\n",
    "    s_list = s.split(' ')\n",
    "    data_set.append(s_list)\n",
    "    \n",
    "print(data_set)"
   ]
  },
  {
   "cell_type": "code",
   "execution_count": 16,
   "metadata": {},
   "outputs": [],
   "source": [
    "D = data_set"
   ]
  },
  {
   "cell_type": "code",
   "execution_count": 17,
   "metadata": {},
   "outputs": [
    {
     "name": "stdout",
     "output_type": "stream",
     "text": [
      "['film', 'bad', 'very', 'is', 'This', 'Very', 'good', 'a', 'movie']\n",
      "{'film': 1.6931471805599454, 'bad': 1.6931471805599454, 'very': 1.2876820724517808, 'is': 1.2876820724517808, 'This': 1.2876820724517808, 'Very': 1.6931471805599454, 'good': 1.2876820724517808, 'a': 1.6931471805599454, 'movie': 1.6931471805599454}\n"
     ]
    }
   ],
   "source": [
    "import numpy as np\n",
    "featurenames = list(set([w for s in D for w in s]))\n",
    "print(featurenames)\n",
    "n_samples = len(D)\n",
    "word_dict = {}\n",
    "count = 1\n",
    "for w in featurenames:\n",
    "    word_dict[w] = count\n",
    "    count +=1\n",
    "id_corpus = []\n",
    "for d in D:\n",
    "    id_corpus.append(list(set([word_dict[w] for w in d])))\n",
    "num_feature = len(featurenames)\n",
    "X = []\n",
    "for corpus in id_corpus:\n",
    "    b = np.zeros(num_feature)\n",
    "    for i in corpus:\n",
    "        b[i-1] = 1\n",
    "    X.append(b)\n",
    "X = np.array(X)\n",
    "word_idf_dict = {}\n",
    "for w in featurenames:\n",
    "    df = np.sum(X[:,word_dict[w] - 1])\n",
    "    word_idf_dict[w] = np.log((n_samples + 1.0) / (df + 1.0) ) + 1.0\n",
    "print(word_idf_dict)"
   ]
  },
  {
   "cell_type": "code",
   "execution_count": null,
   "metadata": {},
   "outputs": [],
   "source": []
  }
 ],
 "metadata": {
  "kernelspec": {
   "display_name": "Python 3",
   "language": "python",
   "name": "python3"
  },
  "language_info": {
   "codemirror_mode": {
    "name": "ipython",
    "version": 3
   },
   "file_extension": ".py",
   "mimetype": "text/x-python",
   "name": "python",
   "nbconvert_exporter": "python",
   "pygments_lexer": "ipython3",
   "version": "3.6.6"
  }
 },
 "nbformat": 4,
 "nbformat_minor": 2
}
