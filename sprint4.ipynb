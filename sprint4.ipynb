{
 "cells": [
  {
   "cell_type": "code",
   "execution_count": 116,
   "metadata": {},
   "outputs": [],
   "source": [
    "import numpy as np\n",
    "import matplotlib.pyplot as plt\n",
    "%matplotlib inline\n",
    "#最適解\n",
    "#n_iter = 20000\n",
    "#lambda = 0.001\n",
    "#lam=0.0000000001"
   ]
  },
  {
   "cell_type": "markdown",
   "metadata": {},
   "source": [
    "# 問題1-5"
   ]
  },
  {
   "cell_type": "code",
   "execution_count": 117,
   "metadata": {},
   "outputs": [],
   "source": [
    "class ScratchLogisticRegression():\n",
    "    \"\"\"\n",
    "    ロジスティック回帰のスクラッチ実装\n",
    "\n",
    "    Parameters\n",
    "    ----------\n",
    "    num_iter : int\n",
    "      イテレーション数\n",
    "    lr : float\n",
    "      学習率\n",
    "    no_bias : bool\n",
    "      バイアス項を入れない場合はTrue\n",
    "    verbose : bool\n",
    "      学習過程を出力する場合はTrue\n",
    "\n",
    "    Attributes\n",
    "    ----------\n",
    "    self.coef_ : 次の形のndarray, shape (n_features,)\n",
    "      パラメータ\n",
    "    self.loss : 次の形のndarray, shape (self.iter,)\n",
    "      学習用データに対する損失の記録\n",
    "    self.val_loss : 次の形のndarray, shape (self.iter,)\n",
    "      検証用データに対する損失の記録\n",
    "\n",
    "    \"\"\"\n",
    "\n",
    "    def __init__(self, num_iter, lr, bias, verbose,lam=0.1):\n",
    "        # ハイパーパラメータを属性として記録\n",
    "        self.iter = num_iter\n",
    "        self.lr = lr\n",
    "        self.bias = bias\n",
    "        self.verbose = verbose\n",
    "        # 損失を記録する配列を用意\n",
    "        self.loss = np.zeros(self.iter+1)\n",
    "        self.val_loss = np.zeros(self.iter+1)\n",
    "        self.lam = lam\n",
    "        np.random.seed(0)\n",
    "\n",
    "    def fit(self, X, y, X_val=None, y_val=None):\n",
    "        \n",
    "        self.thita = np.random.rand(X.shape[1]+1)\n",
    "        self.loss[0] = self.mean_crossentropy_error(X,y)\n",
    "        if X_val is not None:\n",
    "            self.val_loss[0] = self.mean_crossentropy_error(X_val,y_val)\n",
    "        \"\"\"\n",
    "        ロジスティック回帰を学習する。検証用データが入力された場合はそれに対する損失と精度もイテレーションごとに計算する。\n",
    "\n",
    "        Parameters\n",
    "        ----------\n",
    "        X : 次の形のndarray, shape (n_samples, n_features)\n",
    "            学習用データの特徴量\n",
    "        y : 次の形のndarray, shape (n_samples, )\n",
    "            学習用データの正解値\n",
    "        X_val : 次の形のndarray, shape (n_samples, n_features)\n",
    "            検証用データの特徴量\n",
    "        y_val : 次の形のndarray, shape (n_samples, )\n",
    "            検証用データの正解値\n",
    "        \"\"\"\n",
    "        \n",
    "        for n in range(self.iter):\n",
    "            self.loss[n+1] = self.gradient_descent(X,y)\n",
    "            if X_val is not None:\n",
    "                self.val_loss[n+1] = self.mean_crossentropy_error(X_val,y_val)\n",
    "        print(self.predict_proba(X))\n",
    "            \n",
    "            \n",
    "\n",
    "        if self.verbose:\n",
    "            #verboseをTrueにした際は学習過程を出力\n",
    "            print()\n",
    "        pass\n",
    "\n",
    "    def gradient_descent(self,X,y):\n",
    "        \n",
    "        #print(self.predict_proba(X).shape,'probashape')\n",
    "        #print(y.shape,'yshape')\n",
    "        #error = (self.predict_proba(X).reshape(-1,1) - y)\n",
    "        error = (self.predict_proba(X) - y.flatten())\n",
    "        #print('X',X.shape)\n",
    "        #print(X.T.shape,'(2,75 X.Tshape)')\n",
    "        #print(error.shape,'(75,1)errorshape')\n",
    "        grad= np.dot(X.T,error)/X.shape[0]\n",
    "        #print(grad.shape,'gradshape')\n",
    "        #print(error.shape)\n",
    "        #print(np.sum(error * X).shape)\n",
    "        bias_grad = np.sum(error)/X.shape[0]\n",
    "        l2 = self.lam * self.thita[:-1] / X.shape[0]\n",
    "        #print('l2.shape',l2.shape)\n",
    "        #print(grad.shape,'gradshape')\n",
    "        #print(l2.shape,'l2shape')\n",
    "        #print((grad + l2).shape,'grad + l2')\n",
    "        self.thita[:-1] = self.thita[:-1] - self.lr * (grad + l2)#coef\n",
    "        self.thita[-1] = self.thita[-1] - self.lr * bias_grad#seppen\n",
    "        loss = self.mean_crossentropy_error(X,y)\n",
    "        return loss\n",
    "        \n",
    "\n",
    "    def predict(self, X):\n",
    "        \n",
    "        return  np.where(self.predict_proba(X) >= 0.5,1,0)\n",
    "        \"\"\"\n",
    "        ロジスティック回帰を使いラベルを推定する。\n",
    "\n",
    "        Parameters\n",
    "        ----------\n",
    "        X : 次の形のndarray, shape (n_samples, n_features)\n",
    "            サンプル\n",
    "\n",
    "        Returns\n",
    "        -------\n",
    "            次の形のndarray, shape (n_samples, 1)\n",
    "            ロジスティック回帰による推定結果\n",
    "        \"\"\"\n",
    "\n",
    "        \n",
    "\n",
    "    def predict_proba(self, X):\n",
    "        \n",
    "        a = np.dot(self.thita[:-1],X.T) + self.thita[-1]\n",
    "        y = self.sigmoid(a)\n",
    "        #print('predict_proba.shape',y.shape)\n",
    "        #print(y[:5],'予測値')\n",
    "        return y\n",
    "        \n",
    "        \"\"\"\n",
    "        ロジスティック回帰を使い確率を推定する。\n",
    "\n",
    "        Parameters\n",
    "        ----------\n",
    "        X : 次の形のndarray, shape (n_samples, n_features)\n",
    "            サンプル\n",
    "\n",
    "        Returns\n",
    "        -------\n",
    "            次の形のndarray, shape (n_samples, 1)\n",
    "            ロジスティック回帰による推定結果\n",
    "        \"\"\"\n",
    "\n",
    "        pass\n",
    "        return\n",
    "    \n",
    "    def sigmoid(self,a):\n",
    "        return 1 / (1 + np.exp(-a))\n",
    "    \n",
    "    def mean_crossentropy_error(self,X,t):\n",
    "        y = self.predict_proba(X)\n",
    "        crossentropy =  -np.sum(t *  np.log(y) + (1-t) * np.log(1-y))/X.shape[0]\n",
    "        l2_decay = np.sum(self.thita[:-1]**2)/(2 * X.shape[0])\n",
    "        #print(crossentropy,'crossentropy')\n",
    "        #print(l2_decay,'l2_decay')\n",
    "        return crossentropy + l2_decay"
   ]
  },
  {
   "cell_type": "code",
   "execution_count": 118,
   "metadata": {},
   "outputs": [
    {
     "data": {
      "text/html": [
       "<div>\n",
       "<style scoped>\n",
       "    .dataframe tbody tr th:only-of-type {\n",
       "        vertical-align: middle;\n",
       "    }\n",
       "\n",
       "    .dataframe tbody tr th {\n",
       "        vertical-align: top;\n",
       "    }\n",
       "\n",
       "    .dataframe thead th {\n",
       "        text-align: right;\n",
       "    }\n",
       "</style>\n",
       "<table border=\"1\" class=\"dataframe\">\n",
       "  <thead>\n",
       "    <tr style=\"text-align: right;\">\n",
       "      <th></th>\n",
       "      <th>sepal length (cm)</th>\n",
       "      <th>sepal width (cm)</th>\n",
       "      <th>petal length (cm)</th>\n",
       "      <th>petal width (cm)</th>\n",
       "    </tr>\n",
       "  </thead>\n",
       "  <tbody>\n",
       "    <tr>\n",
       "      <th>0</th>\n",
       "      <td>5.1</td>\n",
       "      <td>3.5</td>\n",
       "      <td>1.4</td>\n",
       "      <td>0.2</td>\n",
       "    </tr>\n",
       "    <tr>\n",
       "      <th>1</th>\n",
       "      <td>4.9</td>\n",
       "      <td>3.0</td>\n",
       "      <td>1.4</td>\n",
       "      <td>0.2</td>\n",
       "    </tr>\n",
       "    <tr>\n",
       "      <th>2</th>\n",
       "      <td>4.7</td>\n",
       "      <td>3.2</td>\n",
       "      <td>1.3</td>\n",
       "      <td>0.2</td>\n",
       "    </tr>\n",
       "    <tr>\n",
       "      <th>3</th>\n",
       "      <td>4.6</td>\n",
       "      <td>3.1</td>\n",
       "      <td>1.5</td>\n",
       "      <td>0.2</td>\n",
       "    </tr>\n",
       "    <tr>\n",
       "      <th>4</th>\n",
       "      <td>5.0</td>\n",
       "      <td>3.6</td>\n",
       "      <td>1.4</td>\n",
       "      <td>0.2</td>\n",
       "    </tr>\n",
       "  </tbody>\n",
       "</table>\n",
       "</div>"
      ],
      "text/plain": [
       "   sepal length (cm)  sepal width (cm)  petal length (cm)  petal width (cm)\n",
       "0                5.1               3.5                1.4               0.2\n",
       "1                4.9               3.0                1.4               0.2\n",
       "2                4.7               3.2                1.3               0.2\n",
       "3                4.6               3.1                1.5               0.2\n",
       "4                5.0               3.6                1.4               0.2"
      ]
     },
     "execution_count": 118,
     "metadata": {},
     "output_type": "execute_result"
    }
   ],
   "source": [
    "import pandas as pd\n",
    "from sklearn import datasets\n",
    "iris = datasets.load_iris()\n",
    "df_iris = pd.DataFrame(iris.data,columns = iris.feature_names)\n",
    "df_iris.head()"
   ]
  },
  {
   "cell_type": "markdown",
   "metadata": {},
   "source": [
    "# 問題6 学習と推定"
   ]
  },
  {
   "cell_type": "code",
   "execution_count": 119,
   "metadata": {},
   "outputs": [],
   "source": [
    "from sklearn.model_selection import train_test_split\n",
    "X = np.array(df_iris.iloc[:,:2])\n",
    "y = np.array(iris.target)\n",
    "y_mask = y != 2\n",
    "y_2c = y[y_mask]\n",
    "y_2c\n",
    "X_2c = X[y_mask,:]\n",
    "\n",
    "X_train,X_test,y_train,y_test = train_test_split(X_2c,y_2c,test_size=0.25,stratify=y_2c,random_state=0)"
   ]
  },
  {
   "cell_type": "code",
   "execution_count": 120,
   "metadata": {},
   "outputs": [
    {
     "name": "stdout",
     "output_type": "stream",
     "text": [
      "(75, 2) (25, 2) (75,) (25,)\n"
     ]
    }
   ],
   "source": [
    "print(X_train.shape,X_test.shape,y_train.shape,y_test.shape)"
   ]
  },
  {
   "cell_type": "code",
   "execution_count": 123,
   "metadata": {},
   "outputs": [
    {
     "name": "stdout",
     "output_type": "stream",
     "text": [
      "[0.63018133 0.42174492 0.57714749 0.31794992 0.65508168 0.69620811\n",
      " 0.43967647 0.55920475 0.45776688 0.67389473 0.38594359 0.47721795\n",
      " 0.45932031 0.53201274 0.6213245  0.43130173 0.64620062 0.59639593\n",
      " 0.42143978 0.36788782 0.62308939 0.4319157  0.37731388 0.63895139\n",
      " 0.4037161  0.42174492 0.63018133 0.62191315 0.57745285 0.64820067\n",
      " 0.54048449 0.6307644  0.66497181 0.36788782 0.60456847 0.45838816\n",
      " 0.39434669 0.71965857 0.4125496  0.38475804 0.55827919 0.57928376\n",
      " 0.55017198 0.45776688 0.6380849  0.73417473 0.40401737 0.61268301\n",
      " 0.46779159 0.35971367 0.35971367 0.40462013 0.59488898 0.72672845\n",
      " 0.4116401  0.56850548 0.4954871  0.48634796 0.64648666 0.68761272\n",
      " 0.40311377 0.63837383 0.45869884 0.63924001 0.56911931 0.32565771\n",
      " 0.51251781 0.30927031 0.60397001 0.35190546 0.5966971  0.4037161\n",
      " 0.47721795 0.63952854 0.43130173]\n",
      "\n"
     ]
    }
   ],
   "source": [
    "num_iter=50000\n",
    "lr=0.0001\n",
    "bias=True\n",
    "verbose=True\n",
    "slr = ScratchLogisticRegression(num_iter=num_iter,lr=lr,bias=bias,\n",
    "                                verbose=verbose)\n",
    "slr.fit(X_train,y_train.reshape(-1,1),X_test,y_test.reshape(-1,1))"
   ]
  },
  {
   "cell_type": "code",
   "execution_count": 124,
   "metadata": {},
   "outputs": [
    {
     "name": "stdout",
     "output_type": "stream",
     "text": [
      "[0 0 0 0 0 0 0 0 0 0 0 0 0 0 0 0 0 0 0 0 0 0 0 0 0 0 0 0 0 0 0 0 0 0 0 0 0\n",
      " 0 0 0 0 0 0 0 0 0 0 0 0 0 1 1 1 1 1 1 1 1 1 1 1 1 1 1 1 1 1 1 1 1 1 1 1 1\n",
      " 1 1 1 1 1 1 1 1 1 1 1 1 1 1 1 1 1 1 1 1 1 1 1 1 1 1]\n"
     ]
    }
   ],
   "source": [
    "print(y_2c)"
   ]
  },
  {
   "cell_type": "markdown",
   "metadata": {},
   "source": [
    "# 問題7 学習曲線のプロット"
   ]
  },
  {
   "cell_type": "code",
   "execution_count": 125,
   "metadata": {},
   "outputs": [
    {
     "name": "stdout",
     "output_type": "stream",
     "text": [
      "(50001,)\n"
     ]
    },
    {
     "data": {
      "text/plain": [
       "<matplotlib.legend.Legend at 0x1a1af4e898>"
      ]
     },
     "execution_count": 125,
     "metadata": {},
     "output_type": "execute_result"
    },
    {
     "data": {
      "image/png": "[encoded data removed]",
      "text/plain": [
       "<Figure size 432x288 with 1 Axes>"
      ]
     },
     "metadata": {
      "needs_background": "light"
     },
     "output_type": "display_data"
    }
   ],
   "source": [
    "plt.plot(np.arange(1,len(slr.loss)+1),slr.loss,label='training')\n",
    "\n",
    "print(slr.val_loss.shape)\n",
    "plt.plot(np.arange(1,len(slr.val_loss)+1),slr.val_loss,label='test')\n",
    "plt.legend()"
   ]
  },
  {
   "cell_type": "code",
   "execution_count": 126,
   "metadata": {},
   "outputs": [
    {
     "data": {
      "text/plain": [
       "array([ 0.36569614, -0.74390576,  0.38518448])"
      ]
     },
     "execution_count": 126,
     "metadata": {},
     "output_type": "execute_result"
    }
   ],
   "source": [
    "slr.thita"
   ]
  },
  {
   "cell_type": "markdown",
   "metadata": {},
   "source": [
    "# 問題8 決定領域の可視化"
   ]
  },
  {
   "cell_type": "code",
   "execution_count": 127,
   "metadata": {},
   "outputs": [],
   "source": [
    "from matplotlib.colors import ListedColormap\n",
    "import matplotlib.pyplot as plt\n",
    "%matplotlib inline\n",
    "def plot_decision_regions(X, y, classifier, test_idx=None, resolution=0.02):\n",
    "\n",
    "    # setup marker generator and color map\n",
    "    markers = ('s', 'x', 'o', '^', 'v')\n",
    "    colors = ('red', 'blue', 'lightgreen', 'gray', 'cyan')\n",
    "    cmap = ListedColormap(colors[:len(np.unique(y))])\n",
    "\n",
    "    # plot the decision surface\n",
    "    x1_min, x1_max = X[:, 0].min() - 1, X[:, 0].max() + 1\n",
    "    x2_min, x2_max = X[:, 1].min() - 1, X[:, 1].max() + 1\n",
    "    xx1, xx2 = np.meshgrid(np.arange(x1_min, x1_max, resolution),\n",
    "                           np.arange(x2_min, x2_max, resolution))\n",
    "    Z = classifier.predict(np.array([xx1.ravel(), xx2.ravel()]).T)\n",
    "    print(Z,'Zの値')\n",
    "    Z = Z.reshape(xx1.shape)\n",
    "    plt.contourf(xx1, xx2, Z, alpha=0.3, cmap=cmap)\n",
    "    plt.xlim(xx1.min(), xx1.max())\n",
    "    plt.ylim(xx2.min(), xx2.max())\n",
    "\n",
    "    for idx, cl in enumerate(np.unique(y)):\n",
    "        print(cl,'cl')\n",
    "        print(idx,'idx')\n",
    "        plt.scatter(x=X[y == cl, 0], \n",
    "                    y=X[y == cl, 1],\n",
    "                    alpha=0.8, \n",
    "                    c=colors[idx],\n",
    "                    marker=markers[idx], \n",
    "                    label=cl, \n",
    "                    edgecolor='black')\n",
    "    plt.legend()"
   ]
  },
  {
   "cell_type": "code",
   "execution_count": 128,
   "metadata": {},
   "outputs": [
    {
     "name": "stdout",
     "output_type": "stream",
     "text": [
      "[1 1 1 ... 0 0 0] Zの値\n",
      "0 cl\n",
      "0 idx\n",
      "1 cl\n",
      "1 idx\n",
      "[1 1 1 ... 0 0 0] Zの値\n",
      "0 cl\n",
      "0 idx\n",
      "1 cl\n",
      "1 idx\n"
     ]
    },
    {
     "data": {
      "text/plain": [
       "Text(0.5, 1.0, 'test')"
      ]
     },
     "execution_count": 128,
     "metadata": {},
     "output_type": "execute_result"
    },
    {
     "data": {
      "image/png": "[encoded data removed]",
      "text/plain": [
       "<Figure size 1440x720 with 2 Axes>"
      ]
     },
     "metadata": {
      "needs_background": "light"
     },
     "output_type": "display_data"
    }
   ],
   "source": [
    "plt.figure(1,figsize=(20,10))\n",
    "plt.subplot(1,2,1)\n",
    "plot_decision_regions(X_train,y_train,slr)\n",
    "plt.title('training')\n",
    "plt.subplot(1,2,2)\n",
    "plot_decision_regions(X_test,y_test,slr)\n",
    "plt.title('test')"
   ]
  },
  {
   "cell_type": "code",
   "execution_count": 130,
   "metadata": {},
   "outputs": [
    {
     "data": {
      "text/plain": [
       "array([1, 0, 1, 0, 1, 1, 0, 1, 0, 1, 0, 0, 0, 1, 1, 0, 1, 1, 0, 0, 1, 0,\n",
       "       0, 1, 0, 0, 1, 1, 1, 1, 1, 1, 1, 0, 1, 0, 0, 1, 0, 0, 1, 1, 1, 0,\n",
       "       1, 1, 0, 1, 0, 0, 0, 0, 1, 1, 0, 1, 0, 0, 1, 1, 0, 1, 0, 1, 1, 0,\n",
       "       1, 0, 1, 0, 1, 0, 0, 1, 0])"
      ]
     },
     "execution_count": 130,
     "metadata": {},
     "output_type": "execute_result"
    }
   ],
   "source": [
    "slr.predict(X_train)"
   ]
  },
  {
   "cell_type": "markdown",
   "metadata": {},
   "source": [
    "# おまけ"
   ]
  },
  {
   "cell_type": "code",
   "execution_count": 131,
   "metadata": {},
   "outputs": [],
   "source": [
    "class Affine:\n",
    "    def __init__(self, W, b):\n",
    "        self.params = [W, b]\n",
    "        self.grads = [np.zeros_like(W),np.zeros_like(b)]\n",
    "        print('grads', self.grads)\n",
    "        \n",
    "        \n",
    "    def forward(self,x):\n",
    "        W,b = self.params\n",
    "        out = np.dot(x,W) + b#dot積(N,2)(2,3)=(N,3)\n",
    "        #print(out.shape)\n",
    "        self.x = x\n",
    "        return out\n",
    "    \n",
    "    def backward(self, dout):\n",
    "        W,b = self.params\n",
    "        dW =np.dot(self.x.T, dout)#(D,H) = (D,N)(N,H) = x.t dot dout\n",
    "        \n",
    "        dx = np.dot(dout, W.T)#(N,D) = (N,H)(H,D)\n",
    "        db = np.sum(dout,axis=0)#(1,H)\n",
    "        self.grads[0][...] = dW#上書きをする必要がある\n",
    "        self.grads[1][...] = db\n",
    "        return dx\n",
    "\n",
    "    "
   ]
  },
  {
   "cell_type": "code",
   "execution_count": 132,
   "metadata": {},
   "outputs": [],
   "source": [
    "class SigmoidWithLoss:\n",
    "    def __init__(self):\n",
    "        self.params,self.grads = [],[]\n",
    "        self.t = None\n",
    "        self.y = None\n",
    "        \n",
    "    def forward(self, x, t):\n",
    "        self.y = (1 / (np.exp(-x)+ 1))\n",
    "        self.t = t.reshape(-1, 1)\n",
    "        self.loss = -np.sum(t * np.log(self.y) + (1-t)*np.log(1-self.y))/len(self.y)\n",
    "        #print('lossshape',self.loss.shape)\n",
    "        return self.loss\n",
    "    \n",
    "    def backward(self,dout=1):\n",
    "        #print(dout.shape)\n",
    "        #print(self.y.shape,'yshape')\n",
    "        #print(self.t.shape,'tshape')\n",
    "        dx = dout * (self.y - self.t)/len(self.y)\n",
    "        #print('dxshape',dx.shape)\n",
    "        return dx\n",
    "        #sigmoidレイヤまでの逆伝搬を実行し、affineレイヤへ伝搬を送る為\n",
    "    #sumされたものを分解している。このとき。AddLayerを通ると考えられるがAddレイヤに関してはそのまま送る\n",
    "    #一方でself.lossを計算する際に、len(self.y)で割っている。これは掛け算である為、この分をbackwardの際も乗算する必要がある\n",
    "    \n",
    "    \n",
    "        \n",
    "    \n",
    "        \n",
    "    "
   ]
  },
  {
   "cell_type": "code",
   "execution_count": 150,
   "metadata": {},
   "outputs": [],
   "source": [
    "def meancrossentropyerror(y,t):\n",
    "    #yが縦列N、横列それぞれの確率となってること前提\n",
    "    #また、\n",
    "    batch_size = t.shape[0]\n",
    "    return -np.sum(np.log(y[np.arange(batch_size),t]))/batch_size\n",
    "\n",
    "def sigmoid(x):\n",
    "    return 1 / (1 + np.exp(-x))\n",
    "\n",
    "\n",
    "    "
   ]
  },
  {
   "cell_type": "code",
   "execution_count": 151,
   "metadata": {},
   "outputs": [],
   "source": [
    "class LogisticNet:\n",
    "    def __init__(self,input_size):\n",
    "        np.random.seed(0)\n",
    "        W = np.random.rand(input_size).reshape(-1,1)\n",
    "        b = np.random.rand()\n",
    "        self.layer =Affine(W,b)\n",
    "        self.loss_layer = SigmoidWithLoss()\n",
    "        print(self.loss_layer)\n",
    "        #勾配とパラメータをリストにまとめる\n",
    "        self.params, self.grads = [],[]\n",
    "        self.params += self.layer.params\n",
    "        self.grads += self.layer.grads\n",
    "        \n",
    "    def predict_proba(self,x):\n",
    "        score = self.layer.forward(x)\n",
    "        score = sigmoid(score)\n",
    "        return score\n",
    "    \n",
    "    def predict(self, x):\n",
    "        score = self.predict_proba(x)\n",
    "        print('score', score)\n",
    "        return np.where(score > 0.5,1,0)\n",
    "        \n",
    "        \n",
    "    def forward(self,x,t):\n",
    "        score = self.layer.forward(x)\n",
    "        loss = self.loss_layer.forward(score,t)\n",
    "        return loss\n",
    "    \n",
    "    def backward(self,dout=1):\n",
    "        dout = self.loss_layer.backward(dout)\n",
    "        #print('dout1', dout[:1])\n",
    "        dout = self.layer.backward(dout)\n",
    "        #print('dout2', dout[:1])\n",
    "        return dout\n",
    "        \n",
    "        \n",
    "        \n",
    "    "
   ]
  },
  {
   "cell_type": "code",
   "execution_count": 135,
   "metadata": {},
   "outputs": [],
   "source": [
    "class Trainer:\n",
    "    def __init__(self, model,optimizer,n_iter):\n",
    "        self.model = model\n",
    "        self.optimizer = optimizer\n",
    "        self.n_iter = n_iter\n",
    "        self.loss = np.zeros(self.n_iter)\n",
    "        \n",
    "    def fit(self,x,t):\n",
    "        \n",
    "        model = self.model\n",
    "        optimizer = self.optimizer\n",
    "        \n",
    "        for n in range(self.n_iter):\n",
    "            self.loss[n] = self.model.forward(x,t)\n",
    "            model.backward(dout=1)\n",
    "            #print('before', model.params)\n",
    "            optimizer.update(model.params, model.grads)\n",
    "            #print('after', model.params)\n",
    "            "
   ]
  },
  {
   "cell_type": "code",
   "execution_count": 156,
   "metadata": {},
   "outputs": [],
   "source": [
    "class GD:\n",
    "    def __init__(self,lr):\n",
    "        self.lr = lr\n",
    "        \n",
    "    def update(self, params, grads):\n",
    "        for i in range(len(params)):\n",
    "            params[i] -= self.lr * grads[i]        \n",
    "        \n",
    "        \n",
    "class SGD:\n",
    "    '''\n",
    "    確率的勾配降下法（Stochastic Gradient Descent）\n",
    "    '''\n",
    "    def __init__(self, lr=0.01):\n",
    "        self.lr = lr\n",
    "        \n",
    "    def update(self, params, grads):\n",
    "        \"\"\"\n",
    "        params : list of ndarray, len = 2 (W, b)\n",
    "            ndarray of W : ndarray, shape(1, 2)\n",
    "            b : float or np.float\n",
    "        grads : paramsと同じはず\n",
    "        \"\"\"\n",
    "        for i in range(len(params)):\n",
    "            #print(\"i : {}, grads[i] : {}\".format(i, grads[i])) # debug\n",
    "            params[i] -= self.lr * grads[i] # TODO gradsが0な為計算うまくいかない\n",
    "    "
   ]
  },
  {
   "cell_type": "code",
   "execution_count": 157,
   "metadata": {},
   "outputs": [
    {
     "name": "stdout",
     "output_type": "stream",
     "text": [
      "grads [array([[0.],\n",
      "       [0.]]), array(0.)]\n",
      "<__main__.SigmoidWithLoss object at 0x1a1c88b1d0>\n"
     ]
    }
   ],
   "source": [
    "model = LogisticNet(input_size=2)\n",
    "optimizer = SGD(lr = 0.0001)\n",
    "trainer = Trainer(model,optimizer,n_iter = 50000)\n",
    "trainer.fit(X_2c,y_2c)\n",
    "\n"
   ]
  },
  {
   "cell_type": "code",
   "execution_count": 138,
   "metadata": {},
   "outputs": [
    {
     "data": {
      "text/plain": [
       "<__main__.SigmoidWithLoss at 0x1a1af74198>"
      ]
     },
     "execution_count": 138,
     "metadata": {},
     "output_type": "execute_result"
    }
   ],
   "source": [
    "layer = SigmoidWithLoss()\n",
    "layer"
   ]
  },
  {
   "cell_type": "code",
   "execution_count": 139,
   "metadata": {},
   "outputs": [
    {
     "data": {
      "text/plain": [
       "array([291.40968562, 291.31586879, 291.22205417, ...,  71.96931652,\n",
       "        71.96943897,  71.96956143])"
      ]
     },
     "execution_count": 139,
     "metadata": {},
     "output_type": "execute_result"
    }
   ],
   "source": [
    "trainer.loss"
   ]
  },
  {
   "cell_type": "code",
   "execution_count": 158,
   "metadata": {},
   "outputs": [
    {
     "data": {
      "text/plain": [
       "[<matplotlib.lines.Line2D at 0x1a1d1b4ac8>]"
      ]
     },
     "execution_count": 158,
     "metadata": {},
     "output_type": "execute_result"
    },
    {
     "data": {
      "image/png": "[encoded data removed]",
      "text/plain": [
       "<Figure size 432x288 with 1 Axes>"
      ]
     },
     "metadata": {
      "needs_background": "light"
     },
     "output_type": "display_data"
    }
   ],
   "source": [
    "import matplotlib.pyplot as plt\n",
    "%matplotlib inline\n",
    "plt.plot(np.arange(1,len(trainer.loss) + 1), trainer.loss)"
   ]
  },
  {
   "cell_type": "code",
   "execution_count": 159,
   "metadata": {
    "scrolled": true
   },
   "outputs": [
    {
     "name": "stdout",
     "output_type": "stream",
     "text": [
      "score [[0.72043068]\n",
      " [0.72178194]\n",
      " [0.72312918]\n",
      " ...\n",
      " [0.2949918 ]\n",
      " [0.29639108]\n",
      " [0.29779418]]\n",
      "[[1]\n",
      " [1]\n",
      " [1]\n",
      " ...\n",
      " [0]\n",
      " [0]\n",
      " [0]] Zの値\n",
      "0 cl\n",
      "0 idx\n",
      "1 cl\n",
      "1 idx\n"
     ]
    },
    {
     "data": {
      "text/plain": [
       "Text(0.5, 1.0, 'training')"
      ]
     },
     "execution_count": 159,
     "metadata": {},
     "output_type": "execute_result"
    },
    {
     "data": {
      "image/png": "[encoded data removed]",
      "text/plain": [
       "<Figure size 1440x720 with 1 Axes>"
      ]
     },
     "metadata": {
      "needs_background": "light"
     },
     "output_type": "display_data"
    }
   ],
   "source": [
    "plt.figure(1,figsize=(20,10))\n",
    "plt.subplot(1,2,1)\n",
    "plot_decision_regions(X_train,y_train,model)\n",
    "plt.title('training')"
   ]
  },
  {
   "cell_type": "code",
   "execution_count": null,
   "metadata": {},
   "outputs": [],
   "source": []
  }
 ],
 "metadata": {
  "kernelspec": {
   "display_name": "Python 3",
   "language": "python",
   "name": "python3"
  },
  "language_info": {
   "codemirror_mode": {
    "name": "ipython",
    "version": 3
   },
   "file_extension": ".py",
   "mimetype": "text/x-python",
   "name": "python",
   "nbconvert_exporter": "python",
   "pygments_lexer": "ipython3",
   "version": "3.7.3"
  },
  "latex_envs": {
   "LaTeX_envs_menu_present": true,
   "autoclose": false,
   "autocomplete": true,
   "bibliofile": "biblio.bib",
   "cite_by": "apalike",
   "current_citInitial": 1,
   "eqLabelWithNumbers": true,
   "eqNumInitial": 1,
   "hotkeys": {
    "equation": "Ctrl-E",
    "itemize": "Ctrl-I"
   },
   "labels_anchors": false,
   "latex_user_defs": false,
   "report_style_numbering": false,
   "user_envs_cfg": false
  },
  "toc": {
   "base_numbering": 1,
   "nav_menu": {},
   "number_sections": true,
   "sideBar": true,
   "skip_h1_title": false,
   "title_cell": "Table of Contents",
   "title_sidebar": "Contents",
   "toc_cell": false,
   "toc_position": {},
   "toc_section_display": true,
   "toc_window_display": false
  }
 },
 "nbformat": 4,
 "nbformat_minor": 2
}
