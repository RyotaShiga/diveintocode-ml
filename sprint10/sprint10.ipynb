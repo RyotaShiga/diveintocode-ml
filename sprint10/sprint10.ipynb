{
 "cells": [
  {
   "cell_type": "code",
   "execution_count": 108,
   "metadata": {},
   "outputs": [],
   "source": [
    "import keras"
   ]
  },
  {
   "cell_type": "markdown",
   "metadata": {},
   "source": [
    "# 問題1 全結合層のクラス化"
   ]
  },
  {
   "cell_type": "code",
   "execution_count": 243,
   "metadata": {},
   "outputs": [],
   "source": [
    "class FC:\n",
    "    \"\"\"\n",
    "    ノード数n_nodes1からn_nodes2への全結合層\n",
    "    Parameters\n",
    "    ----------\n",
    "    n_nodes1 : int\n",
    "      前の層のノード数\n",
    "    n_nodes2 : int\n",
    "      後の層のノード数\n",
    "    initializer : 初期化方法のインスタンス\n",
    "    optimizer : 最適化手法のインスタンス\n",
    "    \"\"\"\n",
    "    def __init__(self, n_nodes1, n_nodes2, initializer, optimizer):\n",
    "        self.optimizer = optimizer\n",
    "        self.n_nodes1 = n_nodes1\n",
    "        self.n_nodes2 = n_nodes2\n",
    "        self.initializer = initializer\n",
    "        self.optimizer = optimizer\n",
    "        \n",
    "        \n",
    "        # 初期化\n",
    "        # initializerのメソッドを使い、self.Wとself.Bを初期化する\n",
    "        self.params = {}\n",
    "        self.grads = {}\n",
    "        self.W = self.initializer.W(self.n_nodes1, self.n_nodes2)\n",
    "        self.B = self.initializer.B(self.n_nodes2)\n",
    "        self.params['W'] = self.W\n",
    "        self.params['B'] = self.B\n",
    "        self.X = None\n",
    "        self.dW = np.zeros_like(self.W)\n",
    "        self.dB = np.zeros_like(self.B)\n",
    "        self.grads['W'] = self.dW\n",
    "        self.grads['B'] = self.dB\n",
    "        \n",
    "        \n",
    "    def forward(self, X):\n",
    "        \"\"\"\n",
    "        フォワード\n",
    "        Parameters\n",
    "        ----------\n",
    "        X : 次の形のndarray, shape (batch_size, n_nodes1)\n",
    "            入力\n",
    "        Returns\n",
    "        ----------\n",
    "        A : 次の形のndarray, shape (batch_size, n_nodes2)\n",
    "            出力\n",
    "        \"\"\"        \n",
    "        self.X = X\n",
    "        A = np.dot(X,self.W) + self.B\n",
    "        return A\n",
    "    def backward(self, dA):#x=(N,D) w=(D,H),A=(N,H))\n",
    "#         print('dAの値：', dA)\n",
    "#         print('Xの値：', self.X)\n",
    "        dZ = np.dot(dA, self.W.T)\n",
    "        self.grads['W'][...] = np.dot(self.X.T, dA)\n",
    "        self.grads['B'][...] = np.sum(dA,axis=0)\n",
    "        \"\"\"\n",
    "        バックワード\n",
    "        Parameters\n",
    "        ----------\n",
    "        dA : 次の形のndarray, shape (batch_size, n_nodes2)\n",
    "            後ろから流れてきた勾配\n",
    "        Returns\n",
    "        ----------\n",
    "        dZ : 次の形のndarray, shape (batch_size, n_nodes1)\n",
    "            前に流す勾配\n",
    "        \"\"\"\n",
    "        # 更新\n",
    "        self = self.optimizer.update(self)\n",
    "        return dZ"
   ]
  },
  {
   "cell_type": "markdown",
   "metadata": {},
   "source": [
    "# 問題2 初期化方法のクラス化"
   ]
  },
  {
   "cell_type": "code",
   "execution_count": 110,
   "metadata": {},
   "outputs": [],
   "source": [
    "class SimpleInitializer:\n",
    "    \"\"\"\n",
    "    ガウス分布によるシンプルな初期化\n",
    "    Parameters\n",
    "    ----------\n",
    "    sigma : float\n",
    "      ガウス分布の標準偏差\n",
    "    \"\"\"\n",
    "    def __init__(self, sigma):\n",
    "        self.sigma = sigma\n",
    "    def W(self, n_nodes1, n_nodes2):\n",
    "        \"\"\"\n",
    "        重みの初期化\n",
    "        Parameters\n",
    "        ----------\n",
    "        n_nodes1 : int\n",
    "          前の層のノード数\n",
    "        n_nodes2 : int\n",
    "          後の層のノード数\n",
    "\n",
    "        Returns\n",
    "        ----------\n",
    "        W :\n",
    "        \"\"\"\n",
    "        W = np.random.randn(n_nodes1, n_nodes2) * self.sigma\n",
    "        return W\n",
    "    def B(self, n_nodes2):\n",
    "        \"\"\"\n",
    "        バイアスの初期化\n",
    "        Parameters\n",
    "        ----------\n",
    "        n_nodes2 : int\n",
    "          後の層のノード数\n",
    "\n",
    "        Returns\n",
    "        ----------\n",
    "        B :\n",
    "        \"\"\"\n",
    "        \n",
    "        B = np.random.randn(n_nodes2,)\n",
    "        return B"
   ]
  },
  {
   "cell_type": "markdown",
   "metadata": {},
   "source": [
    "# 問題3 最適化手法のクラス化"
   ]
  },
  {
   "cell_type": "code",
   "execution_count": 234,
   "metadata": {},
   "outputs": [],
   "source": [
    "class SGD:\n",
    "    \"\"\"\n",
    "    確率的勾配降下法\n",
    "    Parameters\n",
    "    ----------\n",
    "    lr : 学習率\n",
    "    \"\"\"\n",
    "    def __init__(self, lr):\n",
    "        self.lr = lr\n",
    "    def update(self, layer):\n",
    "        grads = layer.grads\n",
    "        for key in layer.params.keys():\n",
    "            #print('勾配：', grads[key])\n",
    "            layer.params[key] -= self.lr * grads[key]\n",
    "        \"\"\"\n",
    "        ある層の重みやバイアスの更新\n",
    "        Parameters\n",
    "        ----------\n",
    "        layer : 更新前の層のインスタンス\n",
    "        \"\"\""
   ]
  },
  {
   "cell_type": "markdown",
   "metadata": {},
   "source": [
    "# 問題4 活性化関数のクラス化"
   ]
  },
  {
   "cell_type": "code",
   "execution_count": 112,
   "metadata": {},
   "outputs": [],
   "source": [
    "class Sigmoid:\n",
    "    \n",
    "    def __init__(self):\n",
    "        self.z = None\n",
    "        \n",
    "    def forward(self,x):\n",
    "        z = 1 / (1 + np.exp(-x))\n",
    "        self.z = z\n",
    "        return z\n",
    "    \n",
    "    def backward(self,dout):\n",
    "        return self.z * (1 - self.z) * dout\n",
    "    "
   ]
  },
  {
   "cell_type": "code",
   "execution_count": 113,
   "metadata": {},
   "outputs": [],
   "source": [
    "class SoftmaxWithLoss:\n",
    "    def init(self):\n",
    "        self.y = None\n",
    "        self.t = None\n",
    "    \n",
    "    def forward(self,a,t):\n",
    "        self.t = t\n",
    "        a_max = np.max(a,axis=1).reshape(-1,1)\n",
    "        a_exp = np.exp(a - a_max)\n",
    "        a_sum = np.sum(a_exp,axis=1)\n",
    "        y = a_exp / a_sum.reshape(-1,1)\n",
    "        self.y = y\n",
    "        \n",
    "        loss = self.mean_cross_entropy(y,t)\n",
    "        return loss\n",
    "    \n",
    "    def backward(self,dout=1):\n",
    "        return (self.y - self.t) / len(self.t)\n",
    "    \n",
    "    def mean_cross_entropy(self,y,t,eps=1e-7):\n",
    "        return - np.sum(t * np.log(y + eps)) / len(t)\n",
    "        \n",
    "    "
   ]
  },
  {
   "cell_type": "markdown",
   "metadata": {},
   "source": [
    "# 問題5 ReLUクラスの作成"
   ]
  },
  {
   "cell_type": "code",
   "execution_count": 114,
   "metadata": {},
   "outputs": [],
   "source": [
    "class ReLU:\n",
    "    \n",
    "    def __init__(self):\n",
    "        self.X = None\n",
    "        self.X_mask = None#0以下ならTrue\n",
    "        \n",
    "    def forward(self, X):\n",
    "        self.X = X\n",
    "        self.X_mask = self.X <= 0\n",
    "        self.X[self.X_mask] = 0\n",
    "        return self.X\n",
    "    \n",
    "    def backward(self,dout):\n",
    "        dX = np.zeros_like(self.X)\n",
    "        dX[~self.X_mask] = 1\n",
    "        return dX * dout\n",
    "        \n",
    "        "
   ]
  },
  {
   "cell_type": "markdown",
   "metadata": {},
   "source": [
    "# 問題6 重みの初期値"
   ]
  },
  {
   "cell_type": "code",
   "execution_count": 130,
   "metadata": {},
   "outputs": [],
   "source": [
    "class XavierInitializer:\n",
    "    \"\"\"\n",
    "    ガウス分布によるシンプルな初期化\n",
    "    Parameters\n",
    "    ----------\n",
    "    sigma : float\n",
    "      ガウス分布の標準偏差\n",
    "    \"\"\"\n",
    "    def __init__(self,sigma):\n",
    "        self.n_nodes1 = None\n",
    "        self.sigma = sigma\n",
    "    \n",
    "    def W(self, n_nodes1, n_nodes2):\n",
    "        self.n_nodes1 = n_nodes1\n",
    "        \"\"\"\n",
    "        重みの初期化\n",
    "        Parameters\n",
    "        ----------\n",
    "        n_nodes1 : int\n",
    "          前の層のノード数\n",
    "        n_nodes2 : int\n",
    "          後の層のノード数\n",
    "\n",
    "        Returns\n",
    "        ----------\n",
    "        W :\n",
    "        \"\"\"\n",
    "        W = np.random.randn(n_nodes1, n_nodes2) / np.sqrt(n_nodes1)\n",
    "        return W\n",
    "    def B(self, n_nodes2):\n",
    "        \"\"\"\n",
    "        バイアスの初期化\n",
    "        Parameters\n",
    "        ----------\n",
    "        n_nodes2 : int\n",
    "          後の層のノード数\n",
    "\n",
    "        Returns\n",
    "        ----------\n",
    "        B :\n",
    "        \"\"\"\n",
    "        \n",
    "        B = np.random.randn(n_nodes2,) / np.sqrt(self.n_nodes1)\n",
    "        return B"
   ]
  },
  {
   "cell_type": "code",
   "execution_count": 169,
   "metadata": {},
   "outputs": [],
   "source": [
    "class HeInitializer:\n",
    "    \"\"\"\n",
    "    ガウス分布によるシンプルな初期化\n",
    "    Parameters\n",
    "    ----------\n",
    "    sigma : float\n",
    "      ガウス分布の標準偏差\n",
    "    \"\"\"\n",
    "    def __init__(self,sigma):\n",
    "        self.n_nodes1 = None\n",
    "        self.sigma = sigma\n",
    "        \n",
    "    \n",
    "    def W(self, n_nodes1, n_nodes2):\n",
    "        self.n_nodes1 = n_nodes1\n",
    "        \"\"\"\n",
    "        重みの初期化\n",
    "        Parameters\n",
    "        ----------\n",
    "        n_nodes1 : int\n",
    "          前の層のノード数\n",
    "        n_nodes2 : int\n",
    "          後の層のノード数\n",
    "\n",
    "        Returns\n",
    "        ----------\n",
    "        W :\n",
    "        \"\"\"\n",
    "        W = np.random.randn(n_nodes1, n_nodes2) * \\\n",
    "        np.sqrt(2 / n_nodes1)\n",
    "        return W\n",
    "    def B(self, n_nodes2):\n",
    "        \"\"\"\n",
    "        バイアスの初期化\n",
    "        Parameters\n",
    "        ----------\n",
    "        n_nodes2 : int\n",
    "          後の層のノード数\n",
    "\n",
    "        Returns\n",
    "        ----------\n",
    "        B :\n",
    "        \"\"\"\n",
    "        \n",
    "        B = np.random.randn(n_nodes2,) * \\\n",
    "        np.sqrt(2 / self.n_nodes1)\n",
    "        return B\n",
    "        "
   ]
  },
  {
   "cell_type": "markdown",
   "metadata": {},
   "source": [
    "# 問題7 最適化手法"
   ]
  },
  {
   "cell_type": "code",
   "execution_count": 154,
   "metadata": {},
   "outputs": [],
   "source": [
    "class AdaGrad:\n",
    "    \"\"\"\n",
    "    AdaGrad\n",
    "    Parameters\n",
    "    ----------\n",
    "    lr : 学習率\n",
    "    \"\"\"\n",
    "    def __init__(self, alpha):\n",
    "        self.alpha = alpha\n",
    "        self.h = None\n",
    "        \n",
    "    def update(self, layer):\n",
    "        \n",
    "        batch_size = layer.X.shape[0]\n",
    "        #print(batch_size,'batch_sizeの値')\n",
    "        if self.h is None:\n",
    "            self.h = {}\n",
    "            for key, val in layer.params.items():\n",
    "                self.h[key] = np.zeros_like(val)\n",
    "        \n",
    "        \n",
    "        grads = layer.grads\n",
    "        for key in layer.params.keys():\n",
    "            #print('slef.hの形状：', self.h[key].shape)\n",
    "            #print('grads[key]の形状', grads[key].shape)\n",
    "            self.h[key] += (grads[key] / batch_size)** 2 \n",
    "            layer.params[key] -= self.alpha * grads[key] /\\\n",
    "            (np.sqrt(self.h[key]) + 1e-7)\n",
    "        \"\"\"\n",
    "        ある層の重みやバイアスの更新\n",
    "        Parameters\n",
    "        ----------\n",
    "        layer : 更新前の層のインスタンス\n",
    "        \"\"\""
   ]
  },
  {
   "cell_type": "markdown",
   "metadata": {},
   "source": [
    "# 問題8 クラスの完成"
   ]
  },
  {
   "cell_type": "code",
   "execution_count": 229,
   "metadata": {},
   "outputs": [],
   "source": [
    "from collections import OrderedDict\n",
    "\n",
    "class ScratchSimpleNeuralNetrowkClassifier:\n",
    "    def __init__(self, input_shape, n_classes, n_nodes1, n_nodes2,\n",
    "                 initializer,optimizer, sigma,opt_params):\n",
    "        self.input_shape = input_shape\n",
    "        self.n_nodes1 = n_nodes1\n",
    "        self.n_nodes2 = n_nodes2\n",
    "        self.sigma = sigma \n",
    "        self.initializer = initializer(sigma)\n",
    "        self.optimizer_1 = optimizer(**opt_params)\n",
    "        self.optimizer_2 = optimizer(**opt_params)\n",
    "        self.optimizer_3 = optimizer(**opt_params)\n",
    "        #self.optimizer = optimizer(self.alpha, self.batch)\n",
    "        self.layers = OrderedDict()\n",
    "        self.layers['Affine1'] = FC(self.input_shape, self.n_nodes1,\n",
    "                                   self.initializer, self.optimizer_1)\n",
    "        self.layers['Sigmoid1'] = Sigmoid()\n",
    "        self.layers['Affine2'] = FC(self.n_nodes1, self.n_nodes2,\n",
    "                                   self.initializer, self.optimizer_2)\n",
    "        self.layers['Sigmoid2'] = Sigmoid()\n",
    "        self.layers['Affine3'] = FC(self.n_nodes2, n_classes,self.initializer,\n",
    "                                   self.optimizer_3)\n",
    "        self.last_layer = SoftmaxWithLoss()\n",
    "        \n",
    "        \n",
    "    def forward(self,X,y):\n",
    "        \n",
    "        for layer in self.layers.values():\n",
    "            X = layer.forward(X)\n",
    "            \n",
    "        loss = self.last_layer.forward(X,y)\n",
    "        return loss\n",
    "    \n",
    "    \n",
    "    def backward(self,dout=1):\n",
    "        dout = self.last_layer.backward(dout)\n",
    "        layers = list(self.layers.values())\n",
    "        layers.reverse()\n",
    "        for layer in layers:\n",
    "            dout = layer.backward(dout)\n",
    "    \n",
    "    def predict(self,X):\n",
    "        for layer in self.layers.values():\n",
    "            X = layer.forward(X)\n",
    "        return np.argmax(X,axis=1)\n",
    "        \n",
    "        \n",
    "    \n",
    "    def accuracy(self,X,y):\n",
    "        y_pred = self.predict(X)\n",
    "        y = np.argmax(y,axis=1)\n",
    "        print('y_pred: ', y_pred)\n",
    "        print('y: ', y)\n",
    "        return 100 * np.sum(y_pred == y) / len(y)"
   ]
  },
  {
   "cell_type": "code",
   "execution_count": 119,
   "metadata": {},
   "outputs": [],
   "source": [
    "class Trainer:\n",
    "    \n",
    "    def __init__(self,model, n_epochs, batch):\n",
    "        self.model = model\n",
    "        self.n_epochs = n_epochs\n",
    "        self.batch = batch\n",
    "        self.loss_list = []\n",
    "        \n",
    "        \n",
    "        \n",
    "    def fit(self,X,y):\n",
    "        \n",
    "        for i in range(self.n_epochs):\n",
    "            print('*********' + str(i+1) + 'エポック*********')\n",
    "            get_mini_batch = GetMiniBatch(X, y, batch_size=20)\n",
    "            count = 0\n",
    "            for x_mini, y_mini in get_mini_batch:\n",
    "                count += 1\n",
    "                loss = self.model.forward(x_mini,y_mini)\n",
    "                \n",
    "                self.model.backward()\n",
    "                if count == len(get_mini_batch):\n",
    "                    self.loss_list.append(loss)\n",
    "                    print('loss:',loss)\n",
    "        "
   ]
  },
  {
   "cell_type": "code",
   "execution_count": 120,
   "metadata": {},
   "outputs": [],
   "source": [
    "class GetMiniBatch:\n",
    "    def __init__(self, X, y, batch_size=20, seed=0):\n",
    "        self.batch_size = batch_size\n",
    "        np.random.seed(seed)\n",
    "        shuffle_index = np.random.permutation(np.arange(X.shape[0]))\n",
    "        self._X = X[shuffle_index]\n",
    "        self._y = y[shuffle_index]\n",
    "        self._stop = np.ceil(X.shape[0] / self.batch_size).astype(np.int)\n",
    "        #self.stopは作成するバッチサイズ数。１エポック分作成する\n",
    "        \n",
    "        \n",
    "    def __len__(self):\n",
    "        return self._stop\n",
    "    \n",
    "    #指定したバッチ番号を取ってきてくれる\n",
    "    def __getitem__(self, item):\n",
    "        p0 = item * self.batch_size\n",
    "        p1 = item*self.batch_size + self.batch_size\n",
    "        return self._X[p0 : p1], self._y[p0 : p1]\n",
    "\n",
    "    \n",
    "    \n",
    "    #batchカウンターを初期化する\n",
    "    def __iter__(self):\n",
    "        self._counter = 0\n",
    "        return self\n",
    "    \n",
    "    #batchを前から一つずつ取ってくる\n",
    "    def __next__(self):\n",
    "        if self._counter >= self._stop:\n",
    "            raise StopIteration()\n",
    "        p0 = self._counter * self.batch_size\n",
    "        p1 = self._counter * self.batch_size + self.batch_size\n",
    "        self._counter += 1\n",
    "        return self._X[p0 : p1], self._y[p0 : p1]"
   ]
  },
  {
   "cell_type": "markdown",
   "metadata": {},
   "source": [
    "# 問題9 学習と推定"
   ]
  },
  {
   "cell_type": "code",
   "execution_count": 128,
   "metadata": {},
   "outputs": [
    {
     "name": "stdout",
     "output_type": "stream",
     "text": [
      "1.0\n",
      "0.0\n",
      "(60000, 784)\n",
      "(60000,)\n",
      "(60000,)\n",
      "(60000, 10)\n",
      "float32\n",
      "<class 'numpy.ndarray'>\n"
     ]
    }
   ],
   "source": [
    "import numpy as np\n",
    "from keras.datasets import mnist\n",
    "from keras.utils.np_utils import to_categorical\n",
    "from sklearn.model_selection import train_test_split\n",
    "\n",
    "\n",
    "(X_train, y_train), (X_test, y_test) = mnist.load_data()\n",
    "\n",
    "X_train = X_train.reshape(-1,784)\n",
    "X_test = X_test.reshape(-1,784)\n",
    "\n",
    "X_train = X_train.astype(np.float)\n",
    "X_test = X_test.astype(np.float)\n",
    "X_train /= 255\n",
    "X_test /= 255\n",
    "print(X_train.max())\n",
    "print(X_train.min())\n",
    "print(X_train.shape)\n",
    "print(y_train.shape)\n",
    "\n",
    "\n",
    "y_train_one_hot = to_categorical(y_train, num_classes=10)\n",
    "print(y_train.shape)\n",
    "print(y_train_one_hot.shape) # (60000, 10)\n",
    "print(y_train_one_hot.dtype) # float64\n",
    "print(type(y_train_one_hot))\n",
    "\n",
    "\n",
    "X_train, X_val, y_train, y_val = train_test_split(X_train, y_train_one_hot,\n",
    "                                                 test_size=0.2)"
   ]
  },
  {
   "cell_type": "code",
   "execution_count": 132,
   "metadata": {},
   "outputs": [
    {
     "name": "stdout",
     "output_type": "stream",
     "text": [
      "*********1エポック*********\n",
      "loss: 2.3014720213960294\n",
      "*********2エポック*********\n",
      "loss: 2.301267550348355\n",
      "*********3エポック*********\n",
      "loss: 2.3008746371006694\n",
      "*********4エポック*********\n",
      "loss: 2.3001700508115315\n",
      "*********5エポック*********\n",
      "loss: 2.2989032812804835\n",
      "*********6エポック*********\n",
      "loss: 2.296451395876331\n",
      "*********7エポック*********\n",
      "loss: 2.29073220116468\n",
      "*********8エポック*********\n",
      "loss: 2.2704867229647414\n",
      "*********9エポック*********\n",
      "loss: 2.1266280956703203\n",
      "*********10エポック*********\n",
      "loss: 1.7778825650693548\n",
      "y_pred:  [1 1 0 ... 1 1 3]\n",
      "y:  [1 1 6 ... 7 7 4]\n",
      "acc: 29.26875%\n"
     ]
    }
   ],
   "source": [
    "model = ScratchSimpleNeuralNetrowkClassifier(input_shape=784,\n",
    "                                            n_classes=10, n_nodes1=400,\n",
    "                                             n_nodes2=200,sigma = 0.01,alpha=0.01,\n",
    "                                             initializer=SimpleInitializer,\n",
    "                                            optimizer=SGD)\n",
    "\n",
    "\n",
    "trainer = Trainer(model,n_epochs=10,batch=20)\n",
    "trainer.fit(X_train,y_train)\n",
    "acc = model.accuracy(X_train,y_train)\n",
    "print('acc: {}%'.format(acc))\n",
    "# print(model.forward(X_train,y_train))\n",
    "# print(model.backward())"
   ]
  },
  {
   "cell_type": "code",
   "execution_count": 127,
   "metadata": {},
   "outputs": [
    {
     "data": {
      "text/plain": [
       "[<matplotlib.lines.Line2D at 0x1650058d0>]"
      ]
     },
     "execution_count": 127,
     "metadata": {},
     "output_type": "execute_result"
    },
    {
     "data": {
      "image/png": "[encoded data removed]",
      "text/plain": [
       "<Figure size 432x288 with 1 Axes>"
      ]
     },
     "metadata": {
      "needs_background": "light"
     },
     "output_type": "display_data"
    }
   ],
   "source": [
    "import matplotlib.pyplot as plt\n",
    "%matplotlib inline\n",
    "\n",
    "plt.plot(np.arange(1,len(trainer.loss_list)+1), trainer.loss_list)"
   ]
  },
  {
   "cell_type": "markdown",
   "metadata": {},
   "source": [
    "# 初期値をXavierに変更"
   ]
  },
  {
   "cell_type": "code",
   "execution_count": 140,
   "metadata": {},
   "outputs": [
    {
     "name": "stdout",
     "output_type": "stream",
     "text": [
      "*********1エポック*********\n",
      "loss: 1.9791667208585835\n",
      "*********2エポック*********\n",
      "loss: 1.0835579127179567\n",
      "*********3エポック*********\n",
      "loss: 0.7934600256218094\n",
      "*********4エポック*********\n",
      "loss: 0.6899630542413365\n",
      "*********5エポック*********\n",
      "loss: 0.619927094267915\n",
      "*********6エポック*********\n",
      "loss: 0.5647700401867237\n",
      "*********7エポック*********\n",
      "loss: 0.5227543145367559\n",
      "*********8エポック*********\n",
      "loss: 0.4906598690759755\n",
      "*********9エポック*********\n",
      "loss: 0.46559804865366256\n",
      "*********10エポック*********\n",
      "loss: 0.445562365594853\n",
      "y_pred:  [1 1 6 ... 7 7 4]\n",
      "y:  [1 1 6 ... 7 7 4]\n",
      "acc: 90.1125%\n"
     ]
    }
   ],
   "source": [
    "model = ScratchSimpleNeuralNetrowkClassifier(input_shape=784,\n",
    "                                            n_classes=10, n_nodes1=400,\n",
    "                                             n_nodes2=200,sigma = 0.01,alpha=0.01,\n",
    "                                             initializer=XavierInitializer,\n",
    "                                            optimizer=SGD)\n",
    "\n",
    "\n",
    "trainer_xavier = Trainer(model,n_epochs=10,batch=20)\n",
    "trainer_xavier.fit(X_train,y_train)\n",
    "acc = model.accuracy(X_train,y_train)\n",
    "print('acc: {}%'.format(acc))\n",
    "# print(model.forward(X_train,y_train))\n",
    "# print(model.backward())"
   ]
  },
  {
   "cell_type": "code",
   "execution_count": 160,
   "metadata": {},
   "outputs": [
    {
     "data": {
      "text/plain": [
       "[1.9791667208585835,\n",
       " 1.0835579127179567,\n",
       " 0.7934600256218094,\n",
       " 0.6899630542413365,\n",
       " 0.619927094267915,\n",
       " 0.5647700401867237,\n",
       " 0.5227543145367559,\n",
       " 0.4906598690759755,\n",
       " 0.46559804865366256,\n",
       " 0.445562365594853]"
      ]
     },
     "execution_count": 160,
     "metadata": {},
     "output_type": "execute_result"
    }
   ],
   "source": [
    "trainer_xavier.loss_list"
   ]
  },
  {
   "cell_type": "markdown",
   "metadata": {},
   "source": [
    "急速にlossが下がるようになった。"
   ]
  },
  {
   "cell_type": "code",
   "execution_count": 142,
   "metadata": {},
   "outputs": [
    {
     "data": {
      "text/plain": [
       "<matplotlib.legend.Legend at 0x1646ebf98>"
      ]
     },
     "execution_count": 142,
     "metadata": {},
     "output_type": "execute_result"
    },
    {
     "data": {
      "image/png": "[encoded data removed]",
      "text/plain": [
       "<Figure size 432x288 with 1 Axes>"
      ]
     },
     "metadata": {
      "needs_background": "light"
     },
     "output_type": "display_data"
    }
   ],
   "source": [
    "plt.plot(np.arange(1,len(trainer.loss_list)+1), trainer.loss_list,\n",
    "        label='sigma=0.01',color='cornflowerblue')\n",
    "plt.plot(np.arange(1,len(trainer_xavier.loss_list)+1),\n",
    "        trainer_xavier.loss_list, label='init_Xavier',color='orange')\n",
    "plt.title('loss process')\n",
    "plt.xlabel('epochs')\n",
    "plt.ylabel('loss')\n",
    "plt.legend(loc='best')\n"
   ]
  },
  {
   "cell_type": "markdown",
   "metadata": {},
   "source": [
    "# オプティマイザをAdaGradに変更"
   ]
  },
  {
   "cell_type": "code",
   "execution_count": 157,
   "metadata": {},
   "outputs": [
    {
     "name": "stdout",
     "output_type": "stream",
     "text": [
      "*********1エポック*********\n",
      "loss: 0.6547732597114131\n",
      "*********2エポック*********\n",
      "loss: 0.5500172497289717\n",
      "*********3エポック*********\n",
      "loss: 0.5005542878380451\n",
      "*********4エポック*********\n",
      "loss: 0.4689570717375539\n",
      "*********5エポック*********\n",
      "loss: 0.44586575692206826\n",
      "*********6エポック*********\n",
      "loss: 0.4276599875421373\n",
      "*********7エポック*********\n",
      "loss: 0.4125981265986963\n",
      "*********8エポック*********\n",
      "loss: 0.39972150086986524\n",
      "*********9エポック*********\n",
      "loss: 0.3884516806549525\n",
      "*********10エポック*********\n",
      "loss: 0.37841534802453514\n",
      "y_pred:  [1 1 6 ... 7 7 4]\n",
      "y:  [1 1 6 ... 7 7 4]\n",
      "acc: 91.88333333333334%\n"
     ]
    }
   ],
   "source": [
    "model_ada = ScratchSimpleNeuralNetrowkClassifier(input_shape=784,\n",
    "                                            n_classes=10, n_nodes1=400,\n",
    "                                             n_nodes2=200,sigma = 0.01,alpha=0.0001,\n",
    "                                             initializer=XavierInitializer,\n",
    "                                            optimizer=AdaGrad)\n",
    "\n",
    "trainer_ada = Trainer(model_ada,n_epochs=10,batch=20)\n",
    "trainer_ada.fit(X_train,y_train)\n",
    "acc = model_ada.accuracy(X_train,y_train)\n",
    "print('acc: {}%'.format(acc))\n"
   ]
  },
  {
   "cell_type": "code",
   "execution_count": 163,
   "metadata": {},
   "outputs": [
    {
     "data": {
      "text/plain": [
       "<matplotlib.legend.Legend at 0x13607ada0>"
      ]
     },
     "execution_count": 163,
     "metadata": {},
     "output_type": "execute_result"
    },
    {
     "data": {
      "image/png": "[encoded data removed]",
      "text/plain": [
       "<Figure size 432x288 with 1 Axes>"
      ]
     },
     "metadata": {
      "needs_background": "light"
     },
     "output_type": "display_data"
    }
   ],
   "source": [
    "plt.plot(np.arange(1,len(trainer.loss_list)+1), trainer.loss_list,\n",
    "        label='sigma=0.01',color='cornflowerblue')\n",
    "plt.plot(np.arange(1,len(trainer_xavier.loss_list)+1),\n",
    "        trainer_xavier.loss_list, label='init_Xavier',color='orange')\n",
    "plt.plot(np.arange(1,len(trainer_ada.loss_list)+1),\n",
    "        trainer_ada.loss_list, label='init_Xavier and AdaGrad',\n",
    "         color='green')\n",
    "plt.title('loss process')\n",
    "plt.xlabel('epochs')\n",
    "plt.ylabel('loss')\n",
    "plt.legend(loc='best')"
   ]
  },
  {
   "cell_type": "markdown",
   "metadata": {},
   "source": [
    "# 活性化関数をReLUに変更"
   ]
  },
  {
   "cell_type": "code",
   "execution_count": 231,
   "metadata": {},
   "outputs": [],
   "source": [
    "from collections import OrderedDict\n",
    "\n",
    "class ScratchSimpleNeuralNetrowkClassifier_ReLUver:\n",
    "    def __init__(self, input_shape, n_classes, n_nodes1, n_nodes2,\n",
    "                 initializer,optimizer,sigma,opt_params):\n",
    "        \n",
    "        self.input_shape = input_shape\n",
    "        self.n_nodes1 = n_nodes1\n",
    "        self.n_nodes2 = n_nodes2\n",
    "        self.sigma = sigma \n",
    "#         self.alpha = alpha\n",
    "        self.initializer = initializer(sigma)\n",
    "        self.optimizer_1 = optimizer(**opt_params)\n",
    "        self.optimizer_2 = optimizer(**opt_params)\n",
    "        self.optimizer_3 = optimizer(**opt_params)\n",
    "        #self.optimizer = optimizer(self.alpha, self.batch)\n",
    "        self.layers = OrderedDict()\n",
    "        self.layers['Affine1'] = FC(self.input_shape, self.n_nodes1,\n",
    "                                   self.initializer, self.optimizer_1)\n",
    "        self.layers['ReLU1'] = ReLU()\n",
    "        self.layers['Affine2'] = FC(self.n_nodes1, self.n_nodes2,\n",
    "                                   self.initializer, self.optimizer_2)\n",
    "        self.layers['ReLU2'] = ReLU()\n",
    "        self.layers['Affine3'] = FC(self.n_nodes2, n_classes,self.initializer,\n",
    "                                   self.optimizer_3)\n",
    "        self.last_layer = SoftmaxWithLoss()\n",
    "        \n",
    "        \n",
    "    def forward(self,X,y):\n",
    "        \n",
    "        for layer in self.layers.values():\n",
    "            X = layer.forward(X)\n",
    "            \n",
    "        loss = self.last_layer.forward(X,y)\n",
    "        return loss\n",
    "    \n",
    "    \n",
    "    def backward(self,dout=1):\n",
    "        dout = self.last_layer.backward(dout)\n",
    "        layers = list(self.layers.values())\n",
    "        layers.reverse()\n",
    "        for layer in layers:\n",
    "            dout = layer.backward(dout)\n",
    "    \n",
    "    def predict(self,X):\n",
    "        for layer in self.layers.values():\n",
    "            X = layer.forward(X)\n",
    "        return np.argmax(X,axis=1)\n",
    "        \n",
    "        \n",
    "    \n",
    "    def accuracy(self,X,y):\n",
    "        y_pred = self.predict(X)\n",
    "        y = np.argmax(y,axis=1)\n",
    "        print('y_pred: ', y_pred)\n",
    "        print('y: ', y)\n",
    "        return 100 * np.sum(y_pred == y) / len(y)"
   ]
  },
  {
   "cell_type": "code",
   "execution_count": 251,
   "metadata": {},
   "outputs": [
    {
     "name": "stdout",
     "output_type": "stream",
     "text": [
      "*********1エポック*********\n",
      "loss: 0.3018181853188321\n",
      "*********2エポック*********\n",
      "loss: 0.25265315380530257\n",
      "*********3エポック*********\n",
      "loss: 0.1861632105843541\n",
      "*********4エポック*********\n",
      "loss: 0.20514594992538004\n",
      "*********5エポック*********\n",
      "loss: 0.16143776323790177\n",
      "*********6エポック*********\n",
      "loss: 0.12476582245996878\n",
      "*********7エポック*********\n",
      "loss: 0.08467615545763266\n",
      "*********8エポック*********\n",
      "loss: 0.0770651298042095\n",
      "*********9エポック*********\n",
      "loss: 0.0399571862099821\n",
      "*********10エポック*********\n",
      "loss: 0.04332232946489848\n",
      "y_pred:  [1 1 6 ... 7 7 4]\n",
      "y:  [1 1 6 ... 7 7 4]\n",
      "acc: 98.83541666666666%\n"
     ]
    }
   ],
   "source": [
    "model_ReLU = ScratchSimpleNeuralNetrowkClassifier_ReLUver(\n",
    "                                            input_shape=784,\n",
    "                                            n_classes=10, n_nodes1=400,\n",
    "                                             n_nodes2=200,sigma = 0.01,\n",
    "                                                opt_params={'alpha' : 0.01},\n",
    "                                             initializer=HeInitializer,\n",
    "                                            optimizer=AdaGrad)\n",
    "\n",
    "\n",
    "trainer_ReLU = Trainer(model_ReLU,n_epochs=10,batch=20)\n",
    "trainer_ReLU.fit(X_train,y_train)\n",
    "acc = model_ReLU.accuracy(X_train,y_train)\n",
    "print('acc: {}%'.format(acc))"
   ]
  },
  {
   "cell_type": "code",
   "execution_count": 171,
   "metadata": {},
   "outputs": [
    {
     "data": {
      "text/plain": [
       "<matplotlib.legend.Legend at 0x14c224dd8>"
      ]
     },
     "execution_count": 171,
     "metadata": {},
     "output_type": "execute_result"
    },
    {
     "data": {
      "image/png": "[encoded data removed]",
      "text/plain": [
       "<Figure size 432x288 with 1 Axes>"
      ]
     },
     "metadata": {
      "needs_background": "light"
     },
     "output_type": "display_data"
    }
   ],
   "source": [
    "plt.plot(np.arange(1,len(trainer.loss_list)+1), trainer.loss_list,\n",
    "        label='sigma=0.01',color='cornflowerblue')\n",
    "plt.plot(np.arange(1,len(trainer_xavier.loss_list)+1),\n",
    "        trainer_xavier.loss_list, label='init_Xavier',color='orange')\n",
    "plt.plot(np.arange(1,len(trainer_ada.loss_list)+1),\n",
    "        trainer_ada.loss_list, label='init_Xavier and AdaGrad',\n",
    "         color='green')\n",
    "plt.plot(np.arange(1,len(trainer_ReLU.loss_list)+1),\n",
    "        trainer_ReLU.loss_list, label='init_He and AdaGrad and ReLU',\n",
    "         color='red')\n",
    "plt.title('loss process')\n",
    "plt.xlabel('epochs')\n",
    "plt.ylabel('loss')\n",
    "plt.legend(loc='best')"
   ]
  },
  {
   "cell_type": "markdown",
   "metadata": {},
   "source": [
    "やること：\n",
    "tanhを使ってみる。Adam,Momentumを使ってみる\n",
    "BatchNormalizationを使ってみる。Dropoutを使ってみる"
   ]
  },
  {
   "cell_type": "markdown",
   "metadata": {},
   "source": [
    "# モメンタムを使ってみる"
   ]
  },
  {
   "cell_type": "code",
   "execution_count": 244,
   "metadata": {},
   "outputs": [],
   "source": [
    "class Momentum:\n",
    "    \n",
    "    def __init__(self,alpha,lr):\n",
    "        self.alpha = alpha\n",
    "        self.lr = lr\n",
    "        self.v = None\n",
    "        self.count = 1\n",
    "        \n",
    "    def update(self,layer):\n",
    "        \n",
    "        if self.v is None:\n",
    "            self.v = {}\n",
    "            for key,val in layer.params.items():\n",
    "                self.v[key] = np.zeros_like(val)\n",
    "        \n",
    "        #print(str(self.count) +'回目の更新')\n",
    "        self.count += 1\n",
    "        #print('self.vの値：', self.v['W'])\n",
    "        grads = layer.grads\n",
    "        for key in layer.params.keys():\n",
    "            self.v[key] = self.alpha * self.v[key] - grads[key]\n",
    "            layer.params[key] += self.v[key]\n",
    "            \n",
    "        \n",
    "    "
   ]
  },
  {
   "cell_type": "code",
   "execution_count": 264,
   "metadata": {},
   "outputs": [
    {
     "name": "stdout",
     "output_type": "stream",
     "text": [
      "*********1エポック*********\n",
      "loss: 0.15293162961491422\n",
      "*********2エポック*********\n",
      "loss: 0.06042602903313339\n",
      "*********3エポック*********\n",
      "loss: 0.04788560587185723\n",
      "*********4エポック*********\n",
      "loss: 0.014843159898410119\n",
      "*********5エポック*********\n",
      "loss: 0.012135561073239251\n",
      "*********6エポック*********\n",
      "loss: 0.011943620373937489\n",
      "*********7エポック*********\n",
      "loss: 0.014643346456784289\n",
      "*********8エポック*********\n",
      "loss: 0.030347499943765805\n",
      "*********9エポック*********\n",
      "loss: 0.01215558261960387\n",
      "*********10エポック*********\n",
      "loss: 0.007166981137889707\n",
      "y_pred:  [1 1 6 ... 7 7 4]\n",
      "y:  [1 1 6 ... 7 7 4]\n",
      "acc: 99.40208333333334%\n"
     ]
    }
   ],
   "source": [
    "#alpha=0.6 98.9%\n",
    "#alpha=0.5 99.2%\n",
    "#alpha=0.2 99.6%\n",
    "#alpha=0.1 99.4%\n",
    "\n",
    "model_mom = ScratchSimpleNeuralNetrowkClassifier(\n",
    "                                            input_shape=784,\n",
    "                                            n_classes=10, n_nodes1=400,\n",
    "                                             n_nodes2=200,sigma = 0.01,\n",
    "                                            initializer=XavierInitializer,\n",
    "                                            optimizer=Momentum,\n",
    "                                            opt_params = {'lr': 0.001, 'alpha' : 0.2})\n",
    "\n",
    "\n",
    "trainer_mom = Trainer(model_mom,n_epochs=10,batch=20)\n",
    "trainer_mom.fit(X_train,y_train)\n",
    "acc = model_mom.accuracy(X_train,y_train)\n",
    "print('acc: {}%'.format(acc))"
   ]
  },
  {
   "cell_type": "code",
   "execution_count": 265,
   "metadata": {},
   "outputs": [
    {
     "data": {
      "text/plain": [
       "<matplotlib.legend.Legend at 0x133722cc0>"
      ]
     },
     "execution_count": 265,
     "metadata": {},
     "output_type": "execute_result"
    },
    {
     "data": {
      "image/png": "[encoded data removed]",
      "text/plain": [
       "<Figure size 432x288 with 1 Axes>"
      ]
     },
     "metadata": {
      "needs_background": "light"
     },
     "output_type": "display_data"
    }
   ],
   "source": [
    "plt.plot(np.arange(1,len(trainer.loss_list)+1), trainer.loss_list,\n",
    "        label='sigma=0.01',color='cornflowerblue')\n",
    "plt.plot(np.arange(1,len(trainer_xavier.loss_list)+1),\n",
    "        trainer_xavier.loss_list, label='init_Xavier',color='orange')\n",
    "plt.plot(np.arange(1,len(trainer_ada.loss_list)+1),\n",
    "        trainer_ada.loss_list, label='init_Xavier and AdaGrad',\n",
    "         color='green')\n",
    "plt.plot(np.arange(1,len(trainer_ReLU.loss_list)+1),\n",
    "        trainer_ReLU.loss_list, label='init_He and AdaGrad and ReLU',\n",
    "         color='red')\n",
    "plt.plot(np.arange(1,len(trainer_mom.loss_list)+1),\n",
    "        trainer_mom.loss_list, label='init_Xavier and Momentum',\n",
    "         color='blue')\n",
    "plt.title('loss process')\n",
    "plt.xlabel('epochs')\n",
    "plt.ylabel('loss')\n",
    "plt.legend(loc='best')"
   ]
  },
  {
   "cell_type": "code",
   "execution_count": 208,
   "metadata": {},
   "outputs": [
    {
     "name": "stdout",
     "output_type": "stream",
     "text": [
      "<class '__main__.Momentum'>\n"
     ]
    }
   ],
   "source": [
    "mom = Momentum(l)\n",
    "print(type(mom))"
   ]
  },
  {
   "cell_type": "code",
   "execution_count": 192,
   "metadata": {},
   "outputs": [
    {
     "name": "stdout",
     "output_type": "stream",
     "text": [
      "私は4才のたけしと言います\n"
     ]
    }
   ],
   "source": [
    "test_dict = {'name' : 'たけし', 'age' : 4}\n",
    "hello(**test_dict)"
   ]
  },
  {
   "cell_type": "code",
   "execution_count": 189,
   "metadata": {},
   "outputs": [],
   "source": [
    "def hello(name,age):\n",
    "    print('私は'  + str(age) + '才' + 'の' + name + 'と言います')"
   ]
  },
  {
   "cell_type": "markdown",
   "metadata": {},
   "source": [
    "# Batch Normalizationを使ってみる"
   ]
  },
  {
   "cell_type": "code",
   "execution_count": 269,
   "metadata": {},
   "outputs": [],
   "source": [
    "class BatchNormalization:\n",
    "    \n",
    "    def __init__(self, optimizer):\n",
    "        self.optimizer = optimizer\n",
    "        self.params = {}\n",
    "        self.params['gamma'] = None\n",
    "        self.params['beta'] = None\n",
    "        self.grads = {}\n",
    "        self.grads['gamma'] = None\n",
    "        self.grads['beta'] = None\n",
    "        \n",
    "        self.mu = None\n",
    "        self.std = None\n",
    "        \n",
    "        self.batch_size = None\n",
    "        self.dmu = None\n",
    "        self.dstd = None\n",
    "        self.dxc = None\n",
    "        \n",
    "        \n",
    "    def forward(self,X, eps=1e-7):\n",
    "        self.batch_size = X.shape[0]\n",
    "        if self.gamma is None:#(D,)\n",
    "            N,D = X.shape\n",
    "            self.params['gamma'] = np.ones(D)\n",
    "        if self. beta is None:#(D,)\n",
    "            self.params['beta'] = np.zeros(D)\n",
    "         \n",
    "        #mu:(D,)\n",
    "        #sigma: (D,)\n",
    "        #X_standard: (N,D)\n",
    "        self.mu = np.mean(X,axis=0).reshape(1,-1)\n",
    "        self.xc = X - self.mu\n",
    "        self.var = np.mean(self.xc**2, axis=0)\n",
    "        self.std = np.sqrt(self.var + 10e-7)\n",
    "        self.xn = self.xc / self.std\n",
    "        \n",
    "        return self.params['gamma']* self.xn + \\\n",
    "    self.params['beta']\n",
    "    \n",
    "    def backward(self,dout):\n",
    "        self.dbeta = np.sum(dout,axis=0)\n",
    "        self.dgamma = np.sum(dout * xn, axis=0)\n",
    "        dxn = self.gamma * dout\n",
    "        dxc = dxn / self.std\n",
    "        \n",
    "        \n",
    "        dmu = - dxc\n",
    "        dx = dxc\n",
    "        \n",
    "        \n",
    "        self = self.optimizer.update(self)\n",
    "        \n",
    "        \n",
    "        \n",
    "    \n",
    "    "
   ]
  },
  {
   "cell_type": "code",
   "execution_count": null,
   "metadata": {},
   "outputs": [],
   "source": []
  }
 ],
 "metadata": {
  "kernelspec": {
   "display_name": "Python 3",
   "language": "python",
   "name": "python3"
  },
  "language_info": {
   "codemirror_mode": {
    "name": "ipython",
    "version": 3
   },
   "file_extension": ".py",
   "mimetype": "text/x-python",
   "name": "python",
   "nbconvert_exporter": "python",
   "pygments_lexer": "ipython3",
   "version": "3.6.6"
  }
 },
 "nbformat": 4,
 "nbformat_minor": 2
}
