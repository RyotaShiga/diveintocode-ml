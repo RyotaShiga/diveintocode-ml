{
 "cells": [
  {
   "cell_type": "code",
   "execution_count": 0,
   "metadata": {
    "colab": {
     "base_uri": "https://localhost:8080/",
     "height": 1000
    },
    "colab_type": "code",
    "id": "RMXv2KvSbVX3",
    "outputId": "d2b8e9da-adb1-4d4b-a924-1f6822df4ee2"
   },
   "outputs": [
    {
     "name": "stdout",
     "output_type": "stream",
     "text": [
      "Extracting MNIST_data/train-images-idx3-ubyte.gz\n",
      "Extracting MNIST_data/train-labels-idx1-ubyte.gz\n",
      "Extracting MNIST_data/t10k-images-idx3-ubyte.gz\n",
      "Extracting MNIST_data/t10k-labels-idx1-ubyte.gz\n",
      "Epoch: 1, Cost: 20258.237988636\n",
      "Epoch: 2, Cost: 12089.020513636\n",
      "Epoch: 3, Cost: 11246.383782955\n",
      "Epoch: 4, Cost: 10617.893118182\n",
      "Epoch: 5, Cost: 10657.032382386\n",
      "Epoch: 6, Cost: 10659.486810227\n",
      "Epoch: 7, Cost: 10306.177198864\n",
      "Epoch: 8, Cost: 9144.676110795\n",
      "Epoch: 9, Cost: 9689.991711932\n",
      "Epoch: 10, Cost: 8874.790157386\n",
      "Epoch: 11, Cost: 8977.595514205\n",
      "Epoch: 12, Cost: 9177.726928977\n",
      "Epoch: 13, Cost: 10367.800349432\n",
      "Epoch: 14, Cost: 8412.600667614\n",
      "Epoch: 15, Cost: 8445.172475000\n",
      "Epoch: 16, Cost: 9890.103865909\n",
      "Epoch: 17, Cost: 9835.752619318\n",
      "Epoch: 18, Cost: 9448.115893182\n",
      "Epoch: 19, Cost: 9359.594681250\n",
      "Epoch: 20, Cost: 8544.960557955\n",
      "Epoch: 21, Cost: 8845.806814205\n",
      "Epoch: 22, Cost: 9242.777289773\n",
      "Epoch: 23, Cost: 8856.682291477\n",
      "Epoch: 24, Cost: 8548.655350568\n",
      "Epoch: 25, Cost: 9434.834988068\n",
      "Epoch: 26, Cost: 9462.917706250\n",
      "Epoch: 27, Cost: 9145.172730114\n",
      "Epoch: 28, Cost: 8484.920669318\n",
      "Epoch: 29, Cost: 8813.885356818\n",
      "Epoch: 30, Cost: 8461.940150568\n",
      "Epoch: 31, Cost: 8616.927660227\n",
      "Epoch: 32, Cost: 8111.783731818\n",
      "Epoch: 33, Cost: 7930.317418182\n",
      "Epoch: 34, Cost: 9256.461646023\n",
      "Epoch: 35, Cost: 9479.445106250\n",
      "Epoch: 36, Cost: 8920.588507955\n",
      "Epoch: 37, Cost: 8664.704536932\n",
      "Epoch: 38, Cost: 8718.448662500\n",
      "Epoch: 39, Cost: 8373.700180682\n",
      "Epoch: 40, Cost: 8590.186022727\n",
      "Epoch: 41, Cost: 9144.095303977\n",
      "Epoch: 42, Cost: 9326.875042045\n",
      "Epoch: 43, Cost: 9146.036231818\n",
      "Epoch: 44, Cost: 8811.197653409\n",
      "Epoch: 45, Cost: 8021.745445455\n",
      "Epoch: 46, Cost: 9051.203314205\n",
      "Epoch: 47, Cost: 9808.489829545\n",
      "Epoch: 48, Cost: 9153.163635795\n",
      "Epoch: 49, Cost: 8327.993553977\n",
      "Epoch: 50, Cost: 8055.173352841\n",
      "Epoch: 51, Cost: 8888.139682955\n",
      "Epoch: 52, Cost: 8590.940513636\n",
      "Epoch: 53, Cost: 8636.770404545\n",
      "Epoch: 54, Cost: 8347.175035227\n",
      "Epoch: 55, Cost: 8851.553038636\n",
      "Epoch: 56, Cost: 9000.385967045\n",
      "Epoch: 57, Cost: 8986.287436932\n",
      "Epoch: 58, Cost: 8280.190081818\n",
      "Epoch: 59, Cost: 8115.587655682\n",
      "Epoch: 60, Cost: 7776.746547159\n",
      "Epoch: 61, Cost: 8993.637507386\n",
      "Epoch: 62, Cost: 9449.055956818\n",
      "Epoch: 63, Cost: 8838.631948864\n",
      "Epoch: 64, Cost: 8183.181072159\n",
      "Epoch: 65, Cost: 7910.085459659\n",
      "Epoch: 66, Cost: 8466.387270455\n",
      "Epoch: 67, Cost: 8672.318647727\n",
      "Epoch: 68, Cost: 8870.392180682\n",
      "Epoch: 69, Cost: 9013.199139773\n",
      "Epoch: 70, Cost: 8703.147815341\n",
      "Epoch: 71, Cost: 8475.349068750\n",
      "Epoch: 72, Cost: 8643.050167614\n",
      "Epoch: 73, Cost: 8097.879697159\n",
      "Epoch: 74, Cost: 8338.481754545\n",
      "Epoch: 75, Cost: 8686.558020455\n",
      "Epoch: 76, Cost: 8722.915322159\n",
      "Epoch: 77, Cost: 8965.354211364\n",
      "Epoch: 78, Cost: 7730.837210795\n",
      "Epoch: 79, Cost: 8010.542938068\n",
      "Epoch: 80, Cost: 8327.505963068\n",
      "Epoch: 81, Cost: 8980.920318182\n",
      "Epoch: 82, Cost: 8734.141745455\n",
      "Epoch: 83, Cost: 8576.405830114\n",
      "Epoch: 84, Cost: 9109.257738636\n",
      "Epoch: 85, Cost: 8844.659267614\n",
      "Epoch: 86, Cost: 8459.695564773\n",
      "Epoch: 87, Cost: 8569.381772159\n",
      "Epoch: 88, Cost: 8162.141999432\n",
      "Epoch: 89, Cost: 8456.232993182\n",
      "Epoch: 90, Cost: 8425.966719886\n",
      "Epoch: 91, Cost: 8313.128515341\n",
      "Epoch: 92, Cost: 9809.771046023\n",
      "Epoch: 93, Cost: 8573.557137500\n",
      "Epoch: 94, Cost: 8239.871361364\n",
      "Epoch: 95, Cost: 8457.460216477\n",
      "Epoch: 96, Cost: 8915.072082386\n",
      "Epoch: 97, Cost: 9164.124484091\n",
      "Epoch: 98, Cost: 8553.723086364\n",
      "Epoch: 99, Cost: 8783.275225000\n",
      "Epoch: 100, Cost: 10127.563780682\n",
      "Total cost: 604244.75\n"
     ]
    }
   ],
   "source": [
    "from __future__ import absolute_import\n",
    "from __future__ import division\n",
    "from __future__ import print_function\n",
    "\n",
    "import numpy as np\n",
    "import sklearn.preprocessing as prep\n",
    "import tensorflow as tf\n",
    "from tensorflow.examples.tutorials.mnist import input_data\n",
    "\n",
    "#from autoencoder_models.DenoisingAutoencoder import MaskingNoiseAutoencoder\n",
    "\n",
    "mnist = input_data.read_data_sets('MNIST_data', one_hot=True)\n",
    "\n",
    "tf.compat.v1.reset_default_graph()\n",
    "def standard_scale(X_train, X_test):\n",
    "    preprocessor = prep.StandardScaler().fit(X_train)\n",
    "    X_train = preprocessor.transform(X_train)\n",
    "    X_test = preprocessor.transform(X_test)\n",
    "    return X_train, X_test\n",
    "\n",
    "\n",
    "def get_random_block_from_data(data, batch_size):\n",
    "    start_index = np.random.randint(0, len(data) - batch_size)\n",
    "    return data[start_index:(start_index + batch_size)]\n",
    "\n",
    "\n",
    "X_train, X_test = standard_scale(mnist.train.images, mnist.test.images)\n",
    "\n",
    "n_samples = int(mnist.train.num_examples)\n",
    "training_epochs = 100\n",
    "batch_size = 128\n",
    "display_step = 1\n",
    "\n",
    "autoencoder = MaskingNoiseAutoencoder(\n",
    "    n_input=784,\n",
    "    n_hidden=200,\n",
    "    transfer_function=tf.nn.softplus,\n",
    "    optimizer=tf.train.AdamOptimizer(learning_rate=0.001),\n",
    "    dropout_probability=0.95)\n",
    "\n",
    "for epoch in range(training_epochs):\n",
    "    avg_cost = 0.\n",
    "    total_batch = int(n_samples / batch_size)\n",
    "    for i in range(total_batch):\n",
    "        batch_xs = get_random_block_from_data(X_train, batch_size)\n",
    "\n",
    "        cost = autoencoder.partial_fit(batch_xs)\n",
    "\n",
    "        avg_cost += cost / n_samples * batch_size\n",
    "\n",
    "    if epoch % display_step == 0:\n",
    "        print(\"Epoch:\", '%d,' % (epoch + 1),\n",
    "              \"Cost:\", \"{:.9f}\".format(avg_cost))\n",
    "\n",
    "print(\"Total cost: \" + str(autoencoder.calc_total_cost(X_test)))\n",
    "\n",
    "\n",
    "\n"
   ]
  },
  {
   "cell_type": "code",
   "execution_count": 0,
   "metadata": {
    "colab": {},
    "colab_type": "code",
    "id": "R51DyZg8bgwu"
   },
   "outputs": [],
   "source": [
    "class MaskingNoiseAutoencoder(object):\n",
    "    def __init__(self, n_input, n_hidden, transfer_function = tf.nn.softplus, optimizer = tf.train.AdamOptimizer(),\n",
    "                 dropout_probability = 0.95):\n",
    "        self.n_input = n_input\n",
    "        self.n_hidden = n_hidden\n",
    "        self.transfer = transfer_function\n",
    "        self.dropout_probability = dropout_probability\n",
    "        self.keep_prob = tf.placeholder(tf.float32)\n",
    "\n",
    "        network_weights = self._initialize_weights()\n",
    "        self.weights = network_weights\n",
    "\n",
    "        # model\n",
    "        self.x = tf.placeholder(tf.float32, [None, self.n_input])\n",
    "        self.hidden = self.transfer(tf.add(tf.matmul(tf.nn.dropout(self.x, self.keep_prob), self.weights['w1']),\n",
    "                                           self.weights['b1']))\n",
    "        self.reconstruction = tf.add(tf.matmul(self.hidden, self.weights['w2']), self.weights['b2'])\n",
    "\n",
    "        # cost\n",
    "        self.cost = 0.5 * tf.reduce_sum(tf.pow(tf.subtract(self.reconstruction, self.x), 2.0))\n",
    "        self.optimizer = optimizer.minimize(self.cost)\n",
    "\n",
    "        init = tf.global_variables_initializer()\n",
    "        self.sess = tf.Session()\n",
    "        self.sess.run(init)\n",
    "\n",
    "    def _initialize_weights(self):\n",
    "        all_weights = dict()\n",
    "        all_weights['w1'] = tf.get_variable(\"w1\", shape=[self.n_input, self.n_hidden],\n",
    "            initializer=tf.contrib.layers.xavier_initializer())\n",
    "        all_weights['b1'] = tf.Variable(tf.zeros([self.n_hidden], dtype = tf.float32))\n",
    "        all_weights['w2'] = tf.Variable(tf.zeros([self.n_hidden, self.n_input], dtype = tf.float32))\n",
    "        all_weights['b2'] = tf.Variable(tf.zeros([self.n_input], dtype = tf.float32))\n",
    "        return all_weights\n",
    "\n",
    "    def partial_fit(self, X):\n",
    "        cost, opt = self.sess.run((self.cost, self.optimizer),\n",
    "                                  feed_dict = {self.x: X, self.keep_prob: self.dropout_probability})\n",
    "        return cost\n",
    "\n",
    "    def calc_total_cost(self, X):\n",
    "        return self.sess.run(self.cost, feed_dict = {self.x: X, self.keep_prob: 1.0})\n",
    "\n",
    "    def transform(self, X):\n",
    "        return self.sess.run(self.hidden, feed_dict = {self.x: X, self.keep_prob: 1.0})\n",
    "\n",
    "    def generate(self, hidden=None):\n",
    "        if hidden is None:\n",
    "            hidden = self.sess.run(tf.random_normal([1, self.n_hidden]))\n",
    "        return self.sess.run(self.reconstruction, feed_dict = {self.hidden: hidden})\n",
    "\n",
    "    def reconstruct(self, X):\n",
    "        return self.sess.run(self.reconstruction, feed_dict = {self.x: X, self.keep_prob: 1.0})\n",
    "\n",
    "    def getWeights(self):\n",
    "        return self.sess.run(self.weights['w1'])\n",
    "\n",
    "    def getBiases(self):\n",
    "        return self.sess.run(self.weights['b1'])"
   ]
  },
  {
   "cell_type": "code",
   "execution_count": 0,
   "metadata": {
    "colab": {
     "base_uri": "https://localhost:8080/",
     "height": 355
    },
    "colab_type": "code",
    "id": "sp2eTdb2foFV",
    "outputId": "0545d189-422f-4fbf-977e-f3a9ac0a4b88"
   },
   "outputs": [
    {
     "name": "stdout",
     "output_type": "stream",
     "text": [
      "(55000, 784)\n"
     ]
    },
    {
     "data": {
      "image/png": "[encoded data removed]",
      "text/plain": [
       "<Figure size 720x1440 with 2 Axes>"
      ]
     },
     "metadata": {
      "tags": []
     },
     "output_type": "display_data"
    }
   ],
   "source": [
    "import matplotlib.pyplot as plt\n",
    "#plt.imshow(autoencoder.generate().reshape(28,28), cmap='Greys')\n",
    "noise_factor = 0.4\n",
    "x_train_noisy = X_train + noise_factor * np.random.normal(loc=0.0,\n",
    "                                                         scale=1.0, size=X_train.shape)\n",
    "\n",
    "\n",
    "\n",
    "plt.figure(1, figsize=(10,20))\n",
    "plt.subplot(1,2,1)\n",
    "plt.imshow(x_train_noisy[2,:].reshape(28,28), cmap='Greys')\n",
    "plt.title('Noisy')\n",
    "print(X_train.shape)\n",
    "plt.subplot(1,2,2)\n",
    "plt.imshow(\n",
    "    autoencoder.reconstruct(x_train_noisy[2,:].reshape(1,-1)).reshape(28,28), \n",
    "    cmap='Greys')\n",
    "plt.title('Denoised')\n",
    "plt.show()"
   ]
  },
  {
   "cell_type": "markdown",
   "metadata": {},
   "source": [
    "チュートリアル通りノイズの消去を試みたが、余計にノイズが増えてしまうという結果に終わった。"
   ]
  },
  {
   "cell_type": "code",
   "execution_count": 0,
   "metadata": {
    "colab": {
     "base_uri": "https://localhost:8080/",
     "height": 34
    },
    "colab_type": "code",
    "id": "Fq-wRHmmlVWY",
    "outputId": "68699d4b-84a0-41e5-f381-c4a46e36e721"
   },
   "outputs": [
    {
     "name": "stdout",
     "output_type": "stream",
     "text": [
      "(28, 28)\n"
     ]
    }
   ],
   "source": [
    "print(X_train[0,:].reshape(28, 28).shape)"
   ]
  },
  {
   "cell_type": "code",
   "execution_count": 0,
   "metadata": {
    "colab": {
     "base_uri": "https://localhost:8080/",
     "height": 282
    },
    "colab_type": "code",
    "id": "7RD3RDw1pKwa",
    "outputId": "54347a2b-a62d-4454-b599-8113c73a14af"
   },
   "outputs": [
    {
     "data": {
      "text/plain": [
       "<matplotlib.image.AxesImage at 0x7f58a6949588>"
      ]
     },
     "execution_count": 56,
     "metadata": {
      "tags": []
     },
     "output_type": "execute_result"
    },
    {
     "data": {
      "image/png": "[encoded data removed]",
      "text/plain": [
       "<Figure size 432x288 with 1 Axes>"
      ]
     },
     "metadata": {
      "tags": []
     },
     "output_type": "display_data"
    }
   ],
   "source": []
  },
  {
   "cell_type": "code",
   "execution_count": 0,
   "metadata": {
    "colab": {
     "base_uri": "https://localhost:8080/",
     "height": 282
    },
    "colab_type": "code",
    "id": "BhLtiDiYxZIm",
    "outputId": "027b53d4-b825-4b26-cb78-675d7177e84e"
   },
   "outputs": [
    {
     "data": {
      "text/plain": [
       "<matplotlib.image.AxesImage at 0x7f58a5489fd0>"
      ]
     },
     "execution_count": 68,
     "metadata": {
      "tags": []
     },
     "output_type": "execute_result"
    },
    {
     "data": {
      "image/png": "[encoded data removed]",
      "text/plain": [
       "<Figure size 432x288 with 1 Axes>"
      ]
     },
     "metadata": {
      "tags": []
     },
     "output_type": "display_data"
    }
   ],
   "source": [
    "x_transformed = autoencoder.transform(X_train[1,:].reshape(1,784))\n",
    "x_generated = autoencoder.generate(x_transformed)\n",
    "x_reconstructed = autoencoder.reconstruct(x_generated)\n",
    "plt.imshow(x_reconstructed.reshape(28, 28), cmap='Greys')"
   ]
  },
  {
   "cell_type": "code",
   "execution_count": 0,
   "metadata": {
    "colab": {
     "base_uri": "https://localhost:8080/",
     "height": 282
    },
    "colab_type": "code",
    "id": "cd_bNY7yGnRd",
    "outputId": "f7360132-b368-4c63-94b5-58575a94e7c8"
   },
   "outputs": [
    {
     "data": {
      "text/plain": [
       "<matplotlib.image.AxesImage at 0x7f58a5581828>"
      ]
     },
     "execution_count": 65,
     "metadata": {
      "tags": []
     },
     "output_type": "execute_result"
    },
    {
     "data": {
      "image/png": "[encoded data removed]",
      "text/plain": [
       "<Figure size 432x288 with 1 Axes>"
      ]
     },
     "metadata": {
      "tags": []
     },
     "output_type": "display_data"
    }
   ],
   "source": [
    "plt.imshow(x_generated.reshape(28, 28), cmap='Greys')"
   ]
  },
  {
   "cell_type": "code",
   "execution_count": 0,
   "metadata": {
    "colab": {
     "base_uri": "https://localhost:8080/",
     "height": 282
    },
    "colab_type": "code",
    "id": "NypGT4WIHPDg",
    "outputId": "96061276-3c77-4d79-dd4b-b94a88022ff2"
   },
   "outputs": [
    {
     "data": {
      "text/plain": [
       "<matplotlib.image.AxesImage at 0x7f58a5537ac8>"
      ]
     },
     "execution_count": 67,
     "metadata": {
      "tags": []
     },
     "output_type": "execute_result"
    },
    {
     "data": {
      "image/png": "[encoded data removed]",
      "text/plain": [
       "<Figure size 432x288 with 1 Axes>"
      ]
     },
     "metadata": {
      "tags": []
     },
     "output_type": "display_data"
    }
   ],
   "source": [
    "plt.imshow(X_train[1,:].reshape(28, 28), cmap='Greys')"
   ]
  },
  {
   "cell_type": "code",
   "execution_count": 0,
   "metadata": {
    "colab": {},
    "colab_type": "code",
    "id": "KoukpROAHgZX"
   },
   "outputs": [],
   "source": []
  }
 ],
 "metadata": {
  "colab": {
   "name": "MaskingNoiseAutoencoderRunner.ipynb",
   "provenance": []
  },
  "kernelspec": {
   "display_name": "Python 3",
   "language": "python",
   "name": "python3"
  },
  "language_info": {
   "codemirror_mode": {
    "name": "ipython",
    "version": 3
   },
   "file_extension": ".py",
   "mimetype": "text/x-python",
   "name": "python",
   "nbconvert_exporter": "python",
   "pygments_lexer": "ipython3",
   "version": "3.6.6"
  }
 },
 "nbformat": 4,
 "nbformat_minor": 1
}
