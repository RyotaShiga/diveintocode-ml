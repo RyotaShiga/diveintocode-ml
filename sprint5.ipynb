{
 "cells": [
  {
   "cell_type": "markdown",
   "metadata": {},
   "source": [
    "# 問題1-2"
   ]
  },
  {
   "cell_type": "code",
   "execution_count": 14,
   "metadata": {},
   "outputs": [],
   "source": [
    "class ScratchSVMClassifier:\n",
    "    \n",
    "    def __init__(self,n_iter,lr,lam_limit=0):\n",
    "        self.n_iter = n_iter\n",
    "        self.lr = lr\n",
    "        self.lam_limit = lam_limit\n",
    "        self.loss = np.zeros(n_iter)\n",
    "        \n",
    "            \n",
    "    def fit(self,X,y,sample_weight = None):\n",
    "        self.X = X\n",
    "        self.y = y\n",
    "        np.random.seed(1)\n",
    "        self.lam = np.random.rand(X.shape[0])\n",
    "        self.lam_grad_list = np.zeros((self.n_iter, X.shape[0]))\n",
    "        self.lam_list = np.zeros((self.n_iter,X.shape[0]))\n",
    "        \n",
    "        for n in range(self.n_iter):\n",
    "            #lamda_grad,loss = self.gradient_descent(X,y)\n",
    "            lamda_grad,loss = self.super_gradient_descent(X,y)\n",
    "            self.lam_list[n,:] = self.lam\n",
    "            self.lam_grad_list[n,:] = lamda_grad\n",
    "            self.loss[n] = loss\n",
    "        #サポートベクトルの選定\n",
    "        svec_mask = self.lam > self.lam_limit\n",
    "        self.svec = X[svec_mask,:]\n",
    "        self.sy = self.y[svec_mask]\n",
    "        self.slam = self.lam[svec_mask]\n",
    "        \n",
    "        \n",
    "        \n",
    "        \n",
    "    def predict(self,X):\n",
    "        print(X.shape,'Xshape')\n",
    "        print(self.svec.T.shape,'svecshape')\n",
    "        print(np.dot(X,self.svec.T).shape,'dotshape')\n",
    "        score = np.sum(self.slam*\\\n",
    "                       self.sy * np.dot(X,self.svec.T),axis=1)\n",
    "        print('np.dot(X,self.svec.T)',np.dot(X,self.svec.T))\n",
    "        print('sy * np.dot',self.sy * np.dot(X,self.svec.T))\n",
    "        print('score',score)\n",
    "        return np.where(score > 0, 1, -1 )\n",
    "        #shape (N,1) = sum((1,N) * (1,N) * (N, D)dot(D,svecN),axis=1)\n",
    "        #self.svec = (N,D)\n",
    "        #X = (N,D)\n",
    "        \n",
    "        #lamdaは学習の結果自然と0になって行くものなので、\n",
    "        #裏を返せば0より大きいものは全てサポートベクトルである。\n",
    "        #この本来サポートベクトルであるものから、恣意的に閾値を設定し\n",
    "        #てlamdaを選出するというのは合理的ではない。\n",
    "        #またこの場合、スライドの計算式とも矛盾か生じる。\n",
    "        #(スライドの式はサポートベクトルに対応するlamdaが0である\n",
    "        #ことを前提に式変形を行った結果、N=サポートベクトルの数\n",
    "        #となっている。つまり恣意的に選んだ場合、本来サポート\n",
    "        #ベクトルだった分のものの数だけNが減ってしまう)\n",
    "        #従って0より大きいものを全てサポートベクトルとして扱う\n",
    "        \n",
    "        #スライドの仮定関数のf(x)の計算結果は、np.dot(w.T,X)である\n",
    "        #この値は0以上、0以下となることによって、y(w.T,X)>=0とするため\n",
    "        #に、np.dot(w.T,X)で求まった符号と同じラベルを返す。\n",
    "        #同じ符号どうしの掛け算は必ず正となるからである\n",
    "        \n",
    "    def gradient_descent(self,X,y):\n",
    "        #lambdaの値をそれぞれ算出\n",
    "        lamda_grad = np.zeros_like(self.lam)\n",
    "        for i in range(X.shape[0]):\n",
    "            c1 = y[i] * np.sum(self.lam * y *  np.dot(X[i],X.T))\n",
    "            #print(np.dot(X,X[j]),'np.dot')\n",
    "            #print(self.lam,'self.lam')\n",
    "            #print(y,'y')\n",
    "            #print(c1,'c1')\n",
    "            #c2 = np.sum(self.lam * y * y[j])\n",
    "            #print(c2,'c2')\n",
    "            lamda_grad[i] = 1 - c1# - c2\n",
    "            self.lam[i] += self.lr * lamda_grad[i]\n",
    "            if self.lam[i] <0:\n",
    "                self.lam[i] = 0\n",
    "            \n",
    "        #lambda_y = self.lam * y#(N,)のベクトルを想定\n",
    "        #print(lamda_grad,'lamda_grad')\n",
    "        \n",
    "        loss = self.ragranju_loss(X,y)\n",
    "        return lamda_grad,loss\n",
    "    \n",
    "    def super_gradient_descent(self, X, y):\n",
    "        \n",
    "        lamda_grad = np.zeros_like(self.lam)\n",
    "        c1 = np.sum(self.lam * np.dot(y.reshape(-1,1),\n",
    "                                      y.reshape(1,-1)) * self.kernel(X),axis=1)\n",
    "        lamda_grad = 1 - c1# - c2\n",
    "        self.lam += self.lr * lamda_grad\n",
    "        lam_zero_mask = self.lam < 0\n",
    "        self.lam[lam_zero_mask] = 0\n",
    "            \n",
    "        #lambda_y = self.lam * y#(N,)のベクトルを想定\n",
    "        #print(lamda_grad,'lamda_grad')\n",
    "        \n",
    "        loss = self.ragranju_loss(X,y)\n",
    "        return lamda_grad,loss\n",
    "        \n",
    "        \n",
    "        #下記は置き換えなので別段必要はない。\n",
    "        #self.thita = np.dot(lambda_y,X)\n",
    "        #self.bias = \n",
    "        #thitaは、(D,)のベクトルとなる。このベクトルとX(N,D)をかけと\n",
    "        #(N,)になる。これと教師ラベルyと引き算すると(N,)になり、\n",
    "        #これの平均をとるとスカラー値、つまり切片となる\n",
    "    \n",
    "    def accuracy(self,X,y):\n",
    "        y_pred = self.predict(X)\n",
    "        return np.sum(y_pred == y)/X.shape[0]\n",
    "                        \n",
    "    def ragranju_loss(self,X,y):\n",
    "        #print(X.shape,'X')\n",
    "        #print(y.shape,'y')\n",
    "        #print(self.lam.shape,'lam')\n",
    "        w = np.sum(self.lam.reshape(-1,1) *\\\n",
    "                   y.reshape(-1,1) * X,axis=0)\n",
    "        #print('np.dot(w,X.T)', np.dot(w,X.T).shape)\n",
    "        #print('y',y.shape)\n",
    "        #print('lam', self.lam.shape)\n",
    "        loss = np.sum(w**2)/2 - \\\n",
    "        np.sum(self.lam * (y * np.dot(w,X.T) - 1))\n",
    "        return loss\n",
    "    \n",
    "    def kernel(self,X):\n",
    "        return np.dot(X,X.T)\n",
    "    \n",
    "    def maltiple_kernel(self,X,gamma, theta,d):\n",
    "        return gamma * (self.kernel(X) + theta)**d\n",
    "        \n",
    "        "
   ]
  },
  {
   "cell_type": "code",
   "execution_count": 2,
   "metadata": {},
   "outputs": [
    {
     "name": "stdout",
     "output_type": "stream",
     "text": [
      "<class 'numpy.ndarray'>\n"
     ]
    }
   ],
   "source": [
    "from sklearn.model_selection import train_test_split\n",
    "from sklearn.datasets import load_iris\n",
    "import numpy as np\n",
    "iris_data = load_iris()\n",
    "data = iris_data['data']\n",
    "y_all = iris_data['target']\n",
    "y_mask = y_all != 2\n",
    "y = y_all[y_mask]\n",
    "print(type(data))\n",
    "X = data[y_mask,0:2]\n",
    "X_train,X_test,y_train,y_test = train_test_split(X,y,stratify=y,\n",
    "                                                 random_state=0)"
   ]
  },
  {
   "cell_type": "code",
   "execution_count": 3,
   "metadata": {},
   "outputs": [
    {
     "name": "stdout",
     "output_type": "stream",
     "text": [
      "[ 1 -1  1 -1  1  1 -1  1 -1  1 -1 -1 -1  1  1 -1  1  1 -1 -1  1 -1 -1  1\n",
      " -1 -1  1  1  1  1  1  1  1 -1  1 -1 -1  1 -1 -1  1 -1  1 -1  1  1 -1  1\n",
      " -1 -1 -1 -1  1  1 -1  1 -1 -1  1  1 -1  1 -1  1  1 -1  1 -1  1 -1  1 -1\n",
      " -1  1 -1]\n"
     ]
    }
   ],
   "source": [
    "zero_mask = y_train == 0\n",
    "y_train[zero_mask] = -1\n",
    "print(y_train)"
   ]
  },
  {
   "cell_type": "code",
   "execution_count": 4,
   "metadata": {},
   "outputs": [
    {
     "name": "stdout",
     "output_type": "stream",
     "text": [
      "(75, 2) Xshape\n",
      "(2, 31) svecshape\n",
      "(75, 31) dotshape\n",
      "np.dot(X,self.svec.T) [[40.02 44.39 41.24 ... 44.72 36.61 37.68]\n",
      " [36.56 39.7  37.56 ... 39.86 32.66 34.2 ]\n",
      " [39.7  43.81 40.88 ... 44.1  36.11 37.32]\n",
      " ...\n",
      " [34.2  37.32 35.16 ... 37.5  30.72 32.04]\n",
      " [36.5  40.54 37.62 ... 40.85 33.44 34.38]\n",
      " [34.38 37.33 35.32 ... 37.48 30.71 32.16]]\n",
      "sy * np.dot [[-40.02  44.39 -41.24 ...  44.72  36.61 -37.68]\n",
      " [-36.56  39.7  -37.56 ...  39.86  32.66 -34.2 ]\n",
      " [-39.7   43.81 -40.88 ...  44.1   36.11 -37.32]\n",
      " ...\n",
      " [-34.2   37.32 -35.16 ...  37.5   30.72 -32.04]\n",
      " [-36.5   40.54 -37.62 ...  40.85  33.44 -34.38]\n",
      " [-34.38  37.33 -35.32 ...  37.48  30.71 -32.16]]\n",
      "score [ 1.60734103 -1.23250084  0.88120091 -2.58343256  2.03797677  2.56426691\n",
      " -0.96793224  0.61663231 -0.70336363  1.99849981 -1.69407236 -0.5739264\n",
      " -0.87227784  0.21977941  1.50883957 -1.16778222  1.97325815  0.97685531\n",
      " -1.198718   -1.85729244  1.30614253 -1.2353479  -1.82635666  1.70584249\n",
      " -1.4632866  -1.23250084  1.60734103  1.44127389  0.84741807  1.73677827\n",
      "  0.41962939  1.53977535  1.96756403 -1.85729244  1.17670529 -0.77092932\n",
      " -1.52800522  2.85977129 -1.3310023  -1.558941    0.71798083  0.64472103\n",
      "  0.48434801 -0.70336363  1.80719101  3.12433989 -1.49706944  1.37655527\n",
      " -0.67242786 -2.02335958 -2.02335958 -1.56463512  1.14576951  3.02583843\n",
      " -1.22965377  0.71513377 -0.30935779 -0.44164209  1.93947531  2.53333113\n",
      " -1.39572092  1.77340817 -0.80471216  1.67205965  0.64756809 -2.41736542\n",
      "  0.09034217 -2.61436834  1.24427097 -2.22320956  0.94307247 -1.4632866\n",
      " -0.5739264   1.63827681 -1.16778222]\n"
     ]
    },
    {
     "data": {
      "text/plain": [
       "array([ 1, -1,  1, -1,  1,  1, -1,  1, -1,  1, -1, -1, -1,  1,  1, -1,  1,\n",
       "        1, -1, -1,  1, -1, -1,  1, -1, -1,  1,  1,  1,  1,  1,  1,  1, -1,\n",
       "        1, -1, -1,  1, -1, -1,  1,  1,  1, -1,  1,  1, -1,  1, -1, -1, -1,\n",
       "       -1,  1,  1, -1,  1, -1, -1,  1,  1, -1,  1, -1,  1,  1, -1,  1, -1,\n",
       "        1, -1,  1, -1, -1,  1, -1])"
      ]
     },
     "execution_count": 4,
     "metadata": {},
     "output_type": "execute_result"
    }
   ],
   "source": [
    "n_iter = 100000\n",
    "lr = 0.00001\n",
    "svc = ScratchSVMClassifier(n_iter = n_iter, lr=lr)\n",
    "svc.fit(X_train,y_train)\n",
    "svc.predict(X_train)\n"
   ]
  },
  {
   "cell_type": "code",
   "execution_count": 7,
   "metadata": {},
   "outputs": [
    {
     "data": {
      "image/png": "[encoded data removed]",
      "text/plain": [
       "<Figure size 432x288 with 1 Axes>"
      ]
     },
     "metadata": {
      "needs_background": "light"
     },
     "output_type": "display_data"
    }
   ],
   "source": [
    "import matplotlib.pyplot as plt\n",
    "lam_process = np.sum(svc.lam_list > 0,axis=1)\n",
    "plt.plot(lam_process)\n",
    "plt.show()"
   ]
  },
  {
   "cell_type": "code",
   "execution_count": 8,
   "metadata": {},
   "outputs": [
    {
     "data": {
      "image/png": "[encoded data removed]",
      "text/plain": [
       "<Figure size 432x288 with 1 Axes>"
      ]
     },
     "metadata": {
      "needs_background": "light"
     },
     "output_type": "display_data"
    }
   ],
   "source": [
    "for i in range(svc.lam_list.shape[1]):\n",
    "    plt.plot(np.arange(1,lam_process.shape[0]+1), svc.lam_list[:,i])"
   ]
  },
  {
   "cell_type": "code",
   "execution_count": 372,
   "metadata": {},
   "outputs": [
    {
     "data": {
      "text/plain": [
       "[<matplotlib.lines.Line2D at 0x1a21051e10>]"
      ]
     },
     "execution_count": 372,
     "metadata": {},
     "output_type": "execute_result"
    },
    {
     "data": {
      "image/png": "[encoded data removed]",
      "text/plain": [
       "<Figure size 432x288 with 1 Axes>"
      ]
     },
     "metadata": {
      "needs_background": "light"
     },
     "output_type": "display_data"
    }
   ],
   "source": [
    "plt.plot(np.arange(1,len(svc.loss) + 1), svc.loss)"
   ]
  },
  {
   "cell_type": "code",
   "execution_count": 371,
   "metadata": {},
   "outputs": [
    {
     "data": {
      "text/plain": [
       "<matplotlib.collections.PathCollection at 0x1a203ac780>"
      ]
     },
     "execution_count": 371,
     "metadata": {},
     "output_type": "execute_result"
    },
    {
     "data": {
      "image/png": "[encoded data removed]",
      "text/plain": [
       "<Figure size 432x288 with 1 Axes>"
      ]
     },
     "metadata": {
      "needs_background": "light"
     },
     "output_type": "display_data"
    }
   ],
   "source": [
    "y1 = y_train == 1\n",
    "yminus1 = y_train == -1\n",
    "\n",
    "plt.scatter(X_train[y1,0],X_train[y1,1],color='blue')\n",
    "plt.scatter(X_train[yminus1,0],X_train[yminus1,1],color='green')\n",
    "plt.scatter(svc.svec[:,0],svc.svec[:,1],color='red')"
   ]
  },
  {
   "cell_type": "code",
   "execution_count": 340,
   "metadata": {},
   "outputs": [
    {
     "name": "stdout",
     "output_type": "stream",
     "text": [
      "(75, 2) Xshape\n",
      "(2, 29) svecshape\n",
      "(75, 29) dotshape\n",
      "np.dot(X,self.svec.T) [[44.39 41.24 43.17 ... 44.72 36.61 37.68]\n",
      " [39.7  37.56 38.7  ... 39.86 32.66 34.2 ]\n",
      " [43.81 40.88 42.63 ... 44.1  36.11 37.32]\n",
      " ...\n",
      " [37.32 35.16 36.36 ... 37.5  30.72 32.04]\n",
      " [40.54 37.62 39.42 ... 40.85 33.44 34.38]\n",
      " [37.33 35.32 36.39 ... 37.48 30.71 32.16]]\n",
      "sy * np.dot [[ 44.39 -41.24  43.17 ...  44.72  36.61 -37.68]\n",
      " [ 39.7  -37.56  38.7  ...  39.86  32.66 -34.2 ]\n",
      " [ 43.81 -40.88  42.63 ...  44.1   36.11 -37.32]\n",
      " ...\n",
      " [ 37.32 -35.16  36.36 ...  37.5   30.72 -32.04]\n",
      " [ 40.54 -37.62  39.42 ...  40.85  33.44 -34.38]\n",
      " [ 37.33 -35.32  36.39 ...  37.48  30.71 -32.16]]\n",
      "score [ 1.68611822 -1.29142688  0.92478017 -2.70775434  2.13768634  2.68941911\n",
      " -1.0140145   0.64736779 -0.73660212  2.09605281 -1.77535255 -0.60098792\n",
      " -0.91384984  0.23124922  1.58286158 -1.22361978  2.06987924  1.02494483\n",
      " -1.25597733 -1.94641629  1.3701643  -1.29451887 -1.91405874  1.78937487\n",
      " -1.53338971 -1.29142688  1.68611822  1.51196249  0.88933063  1.82173242\n",
      "  0.4408545   1.61521913  2.06369526 -1.94641629  1.23455011 -0.80750121\n",
      " -1.60119681  2.99918904 -1.39468352 -1.63355436  0.75371643  0.67663335\n",
      "  0.5086616  -0.73660212  1.8957235   3.27660142 -1.56883926  1.44415539\n",
      " -0.70424456 -2.12057203 -2.12057203 -1.63973835  1.20219255  3.17334478\n",
      " -1.28833489  0.75062444 -0.32357554 -0.46228173  2.03442969  2.65706155\n",
      " -1.46249062  1.86027396 -0.84295075  1.75392532  0.67972535 -2.5335986\n",
      "  0.09563502 -2.74011189  1.3054492  -2.33017731  0.98949528 -1.53338971\n",
      " -0.60098792  1.71847578 -1.22361978]\n"
     ]
    },
    {
     "data": {
      "text/plain": [
       "array([ 1, -1,  1, -1,  1,  1, -1,  1, -1,  1, -1, -1, -1,  1,  1, -1,  1,\n",
       "        1, -1, -1,  1, -1, -1,  1, -1, -1,  1,  1,  1,  1,  1,  1,  1, -1,\n",
       "        1, -1, -1,  1, -1, -1,  1,  1,  1, -1,  1,  1, -1,  1, -1, -1, -1,\n",
       "       -1,  1,  1, -1,  1, -1, -1,  1,  1, -1,  1, -1,  1,  1, -1,  1, -1,\n",
       "        1, -1,  1, -1, -1,  1, -1])"
      ]
     },
     "execution_count": 340,
     "metadata": {},
     "output_type": "execute_result"
    }
   ],
   "source": [
    "svc.predict(X_train)"
   ]
  },
  {
   "cell_type": "code",
   "execution_count": 349,
   "metadata": {},
   "outputs": [
    {
     "data": {
      "text/plain": [
       "(26, 2)"
      ]
     },
     "execution_count": 349,
     "metadata": {},
     "output_type": "execute_result"
    }
   ],
   "source": [
    "svc.svec.shape"
   ]
  },
  {
   "cell_type": "code",
   "execution_count": 325,
   "metadata": {},
   "outputs": [
    {
     "data": {
      "text/plain": [
       "array([-1,  1, -1,  1, -1, -1, -1,  1, -1,  1,  1, -1, -1,  1,  1,  1, -1,\n",
       "        1, -1,  1, -1, -1,  1, -1, -1, -1,  1,  1,  1,  1, -1])"
      ]
     },
     "execution_count": 325,
     "metadata": {},
     "output_type": "execute_result"
    }
   ],
   "source": [
    "svc.sy"
   ]
  },
  {
   "cell_type": "markdown",
   "metadata": {},
   "source": [
    "# 問題3 指標値の算出"
   ]
  },
  {
   "cell_type": "code",
   "execution_count": 10,
   "metadata": {},
   "outputs": [
    {
     "name": "stdout",
     "output_type": "stream",
     "text": [
      "(75, 2) Xshape\n",
      "(2, 31) svecshape\n",
      "(75, 31) dotshape\n",
      "np.dot(X,self.svec.T) [[40.02 44.39 41.24 ... 44.72 36.61 37.68]\n",
      " [36.56 39.7  37.56 ... 39.86 32.66 34.2 ]\n",
      " [39.7  43.81 40.88 ... 44.1  36.11 37.32]\n",
      " ...\n",
      " [34.2  37.32 35.16 ... 37.5  30.72 32.04]\n",
      " [36.5  40.54 37.62 ... 40.85 33.44 34.38]\n",
      " [34.38 37.33 35.32 ... 37.48 30.71 32.16]]\n",
      "sy * np.dot [[-40.02  44.39 -41.24 ...  44.72  36.61 -37.68]\n",
      " [-36.56  39.7  -37.56 ...  39.86  32.66 -34.2 ]\n",
      " [-39.7   43.81 -40.88 ...  44.1   36.11 -37.32]\n",
      " ...\n",
      " [-34.2   37.32 -35.16 ...  37.5   30.72 -32.04]\n",
      " [-36.5   40.54 -37.62 ...  40.85  33.44 -34.38]\n",
      " [-34.38  37.33 -35.32 ...  37.48  30.71 -32.16]]\n",
      "score [ 1.60734103 -1.23250084  0.88120091 -2.58343256  2.03797677  2.56426691\n",
      " -0.96793224  0.61663231 -0.70336363  1.99849981 -1.69407236 -0.5739264\n",
      " -0.87227784  0.21977941  1.50883957 -1.16778222  1.97325815  0.97685531\n",
      " -1.198718   -1.85729244  1.30614253 -1.2353479  -1.82635666  1.70584249\n",
      " -1.4632866  -1.23250084  1.60734103  1.44127389  0.84741807  1.73677827\n",
      "  0.41962939  1.53977535  1.96756403 -1.85729244  1.17670529 -0.77092932\n",
      " -1.52800522  2.85977129 -1.3310023  -1.558941    0.71798083  0.64472103\n",
      "  0.48434801 -0.70336363  1.80719101  3.12433989 -1.49706944  1.37655527\n",
      " -0.67242786 -2.02335958 -2.02335958 -1.56463512  1.14576951  3.02583843\n",
      " -1.22965377  0.71513377 -0.30935779 -0.44164209  1.93947531  2.53333113\n",
      " -1.39572092  1.77340817 -0.80471216  1.67205965  0.64756809 -2.41736542\n",
      "  0.09034217 -2.61436834  1.24427097 -2.22320956  0.94307247 -1.4632866\n",
      " -0.5739264   1.63827681 -1.16778222]\n",
      "Accuracy: 98.667%\n"
     ]
    }
   ],
   "source": [
    "acc = svc.accuracy(X_train,y_train)\n",
    "print('Accuracy: {:.3f}%'.format(acc*100))"
   ]
  },
  {
   "cell_type": "code",
   "execution_count": 342,
   "metadata": {},
   "outputs": [
    {
     "name": "stdout",
     "output_type": "stream",
     "text": [
      "[-0.68611656 -0.29142558  0.07522073 -1.70771931 -1.13772006 -1.68945005\n",
      " -0.01398273  0.3525952   0.2635803  -1.09611458 -0.77527997  0.39907868\n",
      "  0.08609321  0.76884569 -0.5830811  -0.22343799 -1.07021622 -0.02519859\n",
      " -0.25570608 -0.9461288  -0.37040182 -0.29429225 -0.91370274 -0.78975834\n",
      " -0.53303178 -0.29107201 -0.68662626 -0.51244707  0.11018313 -0.82222764\n",
      "  0.55858687 -0.61597163 -1.06440847 -0.9456148  -0.23529838  0.19312935\n",
      " -0.60058543 -1.99978346 -0.39409818 -0.63288771  0.24561078  1.67719938\n",
      "  0.4911645   0.26377366 -0.89602328 -2.27686793 -0.56859148 -0.44443556\n",
      "  0.29599932 -1.12041302 -1.12041302 -0.63960237 -0.20235917 -2.17350468\n",
      " -0.28816399  0.24922038  0.67666075  0.5377245  -1.03421087 -1.65684288\n",
      " -0.46268487 -0.86006446  0.15687922 -0.75367953  0.32050196 -1.5337363\n",
      "  0.90450319 -1.73981043 -0.30573087 -1.33004931  0.0103852  -0.53325201\n",
      "  0.39913997 -0.71847578 -0.22361978]\n"
     ]
    }
   ],
   "source": [
    "print(svc.lam_grad_list[149999])"
   ]
  },
  {
   "cell_type": "code",
   "execution_count": 351,
   "metadata": {},
   "outputs": [
    {
     "data": {
      "text/plain": [
       "array([0.        , 0.        , 0.        , 0.        , 0.        ,\n",
       "       0.        , 0.        , 0.        , 0.        , 0.        ,\n",
       "       0.        , 0.        , 0.        , 0.        , 0.        ,\n",
       "       0.        , 0.        , 0.        , 0.        , 0.        ,\n",
       "       0.        , 0.        , 0.        , 0.        , 0.        ,\n",
       "       0.        , 0.        , 0.        , 0.        , 0.        ,\n",
       "       0.        , 0.        , 0.        , 0.        , 0.        ,\n",
       "       0.        , 0.        , 0.        , 0.        , 0.        ,\n",
       "       0.        , 0.        , 0.        , 0.        , 0.        ,\n",
       "       0.        , 0.        , 0.        , 0.        , 0.01936132,\n",
       "       0.02740766, 0.05355541, 0.15158018, 0.19159489, 0.21066289,\n",
       "       0.26205093, 0.45290739, 0.49457858, 0.58213494, 0.68679283,\n",
       "       0.69848458, 0.73433164, 0.78199321, 0.79244517, 0.89862626,\n",
       "       1.10102064, 1.11506568, 1.12674043, 1.14532933, 1.30295877,\n",
       "       1.32818964, 1.84039108, 2.36601144, 2.45826827, 4.26319057])"
      ]
     },
     "execution_count": 351,
     "metadata": {},
     "output_type": "execute_result"
    }
   ],
   "source": [
    "np.sort(svc.lam)"
   ]
  },
  {
   "cell_type": "code",
   "execution_count": 327,
   "metadata": {},
   "outputs": [
    {
     "data": {
      "text/plain": [
       "31"
      ]
     },
     "execution_count": 327,
     "metadata": {},
     "output_type": "execute_result"
    }
   ],
   "source": [
    "#lamdaの数 15万＝29\n",
    "#lamdaの数　１０万回＝31\n",
    "#1万回=41\n",
    "np.sum(svc.lam>0)"
   ]
  },
  {
   "cell_type": "code",
   "execution_count": 205,
   "metadata": {},
   "outputs": [],
   "source": [
    "import matplotlib.pyplot as plt\n",
    "%matplotlib inline\n",
    "def plot_grads(array_list):\n",
    "    for i in range(array_list.shape[1]):\n",
    "        plt.plot(np.arange(1,array_list.shape[0]+1),array_list[:,i],\n",
    "                label=i)\n",
    "    plt.legend()"
   ]
  },
  {
   "cell_type": "code",
   "execution_count": 362,
   "metadata": {},
   "outputs": [
    {
     "data": {
      "image/png": "[encoded data removed]",
      "text/plain": [
       "<Figure size 432x288 with 1 Axes>"
      ]
     },
     "metadata": {
      "needs_background": "light"
     },
     "output_type": "display_data"
    }
   ],
   "source": [
    "plot_grads(svc.lam_grad_list)"
   ]
  },
  {
   "cell_type": "markdown",
   "metadata": {},
   "source": [
    "# SVMの仕組み"
   ]
  },
  {
   "cell_type": "markdown",
   "metadata": {},
   "source": [
    "y(w.T, x)が識別境界からサポートベクトルを通る直線の距離に相当し、この距離は識別境界の反対側にあるサポートベクトルとの距離と同じにする。\n",
    "例えば、それぞれ反対側にあるサポートベクトルをx0,x1とすると、x0から識別境界までの距離が0.3,x1から識別境界までの距離が0.3であったりする。これについて、wに対してkで定数倍することで、無理矢理、この距離を1にしている。これによって、f(x) = sign(w.T,x)は、サポートベクトルのみを取ってくるようにw=np.sum(lambda*yi * xi)のところを設定し、これをf(x)の式に代入すると、lambdan * yn * x.T * sn=1になる。これをサポートベクトルの数分足し合わせると、例えばサポートベクトルの数が2だとすると、=2になり、、、、w＝サンプル数分のものを持ってきているのにそこからなぜサポートベクトルのもののみを抽出する式が成り立つのか。\n",
    "→サンプル数が100個とか、本来あったものを、サポートベクトルの個数、つまりサンプルが2個しかなかったことにして（つまり他のsampleを全て無視して）計算を行っている。よってサポートベクトルのもののみを抽出する式が成り立つ。また、サポートベクトルを使った場合のみy(w.T,x)が＝１になる。\n",
    "\n",
    "サポートベクトルでない場合、そもそもlambda=0になる。だから、どっちにしろ、サポートベクトルに対応するもののみのsumの式になる。\n"
   ]
  },
  {
   "cell_type": "code",
   "execution_count": 210,
   "metadata": {},
   "outputs": [
    {
     "ename": "SyntaxError",
     "evalue": "invalid syntax (<ipython-input-210-7616768826f7>, line 2)",
     "output_type": "error",
     "traceback": [
      "\u001b[0;36m  File \u001b[0;32m\"<ipython-input-210-7616768826f7>\"\u001b[0;36m, line \u001b[0;32m2\u001b[0m\n\u001b[0;31m    yi(vec) x.Tshape(N,D) xj shape(D,1))\u001b[0m\n\u001b[0m            ^\u001b[0m\n\u001b[0;31mSyntaxError\u001b[0m\u001b[0;31m:\u001b[0m invalid syntax\n"
     ]
    }
   ],
   "source": [
    "lamda_j += 1 - np.sum(lamda_j * yj * \n",
    "                      yi(vec) x.Tshape(N,D) xj shape(D,1))"
   ]
  },
  {
   "cell_type": "code",
   "execution_count": null,
   "metadata": {},
   "outputs": [],
   "source": [
    "X_train.shape"
   ]
  },
  {
   "cell_type": "code",
   "execution_count": null,
   "metadata": {},
   "outputs": [],
   "source": [
    "a = np.array([2,2])\n",
    "b = np.array([2,2])\n",
    "print(np.sum(a = b))"
   ]
  },
  {
   "cell_type": "code",
   "execution_count": null,
   "metadata": {},
   "outputs": [],
   "source": [
    "vector = np.array([2,2,2,3])\n",
    "matrix = np.array([[2,3],[2,3],[2,3],[2,3]])\n",
    "matrix2 = np.array([[2],[2],[2],[2]])\n",
    "print(vector.shape)#ベクトル\n",
    "print(matrix.shape)#行列\n",
    "\n",
    "print(np.dot(vector,matrix).shape)\n",
    "#print(vector * matrix)\n",
    "#ベクトルは横ベクトルなので、vectorの4とmatrixの2が対応していない\n",
    "#のでエラーが発生する\n",
    "print(matrix2.shape)\n",
    "#matrix2を定義し、列を1としてベクトルに合わせると、\n",
    "#縦がmatrix2の行、横が横ベクトルの列に無理矢理にするように\n",
    "#ブロードキャストしてしまう。\n",
    "print(matrix2 * vector)\n",
    "\n"
   ]
  },
  {
   "cell_type": "code",
   "execution_count": 223,
   "metadata": {},
   "outputs": [
    {
     "name": "stdout",
     "output_type": "stream",
     "text": [
      "(4, 2)\n",
      "[[1. 1.]\n",
      " [1. 1.]]\n"
     ]
    }
   ],
   "source": [
    "lamda = np.array([2,2,5,5])\n",
    "X = np.ones((4,2))\n",
    "print(X.shape)\n",
    "\n",
    "sikiti = 3\n",
    "lamda_index = lamda > sikiti\n",
    "lamda_index\n",
    "print(X[lamda_index,:])\n",
    "\n"
   ]
  },
  {
   "cell_type": "markdown",
   "metadata": {},
   "source": [
    "# 問題4 決定領域の可視化"
   ]
  },
  {
   "cell_type": "code",
   "execution_count": 224,
   "metadata": {},
   "outputs": [],
   "source": [
    "from matplotlib.colors import ListedColormap\n",
    "import matplotlib.pyplot as plt\n",
    "%matplotlib inline\n",
    "def plot_decision_regions(X, y, classifier, test_idx=None, resolution=0.02):\n",
    "\n",
    "    # setup marker generator and color map\n",
    "    markers = ('s', 'x', 'o', '^', 'v')\n",
    "    colors = ('red', 'blue', 'lightgreen', 'gray', 'cyan')\n",
    "    cmap = ListedColormap(colors[:len(np.unique(y))])\n",
    "\n",
    "    # plot the decision surface\n",
    "    x1_min, x1_max = X[:, 0].min() - 1, X[:, 0].max() + 1\n",
    "    x2_min, x2_max = X[:, 1].min() - 1, X[:, 1].max() + 1\n",
    "    xx1, xx2 = np.meshgrid(np.arange(x1_min, x1_max, resolution),\n",
    "                           np.arange(x2_min, x2_max, resolution))\n",
    "    Z = classifier.predict(np.array([xx1.ravel(), xx2.ravel()]).T)\n",
    "    print(Z,'Zの値')\n",
    "    Z = Z.reshape(xx1.shape)\n",
    "    plt.contourf(xx1, xx2, Z, alpha=0.3, cmap=cmap)\n",
    "    plt.xlim(xx1.min(), xx1.max())\n",
    "    plt.ylim(xx2.min(), xx2.max())\n",
    "\n",
    "    for idx, cl in enumerate(np.unique(y)):\n",
    "        print(cl,'cl')\n",
    "        print(idx,'idx')\n",
    "        plt.scatter(x=X[y == cl, 0], \n",
    "                    y=X[y == cl, 1],\n",
    "                    alpha=0.8, \n",
    "                    c=colors[idx],\n",
    "                    marker=markers[idx], \n",
    "                    label=cl, \n",
    "                    edgecolor='black')\n",
    "    plt.legend()"
   ]
  },
  {
   "cell_type": "code",
   "execution_count": 363,
   "metadata": {},
   "outputs": [
    {
     "name": "stdout",
     "output_type": "stream",
     "text": [
      "(50820, 2) Xshape\n",
      "(2, 31) svecshape\n",
      "(50820, 31) dotshape\n",
      "np.dot(X,self.svec.T) [[19.9   22.47  20.56  ... 22.7   18.57  18.84 ]\n",
      " [20.    22.588 20.664 ... 22.82  18.668 18.936]\n",
      " [20.1   22.706 20.768 ... 22.94  18.766 19.032]\n",
      " ...\n",
      " [57.592 62.514 59.164 ... 62.762 51.426 53.868]\n",
      " [57.692 62.632 59.268 ... 62.882 51.524 53.964]\n",
      " [57.792 62.75  59.372 ... 63.002 51.622 54.06 ]]\n",
      "sy * np.dot [[-19.9    22.47  -20.56  ...  22.7    18.57  -18.84 ]\n",
      " [-20.     22.588 -20.664 ...  22.82   18.668 -18.936]\n",
      " [-20.1    22.706 -20.768 ...  22.94   18.766 -19.032]\n",
      " ...\n",
      " [-57.592  62.514 -59.164 ...  62.762  51.426 -53.868]\n",
      " [-57.692  62.632 -59.268 ...  62.882  51.524 -53.964]\n",
      " [-57.792  62.75  -59.372 ...  63.002  51.622 -54.06 ]]\n",
      "score [ 2.05734247  2.08379787  2.11025328 ... -2.01898662 -1.99253122\n",
      " -1.96607581]\n",
      "[ 1  1  1 ... -1 -1 -1] Zの値\n",
      "-1 cl\n",
      "0 idx\n",
      "1 cl\n",
      "1 idx\n"
     ]
    },
    {
     "data": {
      "image/png": "[encoded data removed]",
      "text/plain": [
       "<Figure size 432x288 with 1 Axes>"
      ]
     },
     "metadata": {
      "needs_background": "light"
     },
     "output_type": "display_data"
    }
   ],
   "source": [
    "plot_decision_regions(X_train,y_train,svc)"
   ]
  },
  {
   "cell_type": "markdown",
   "metadata": {},
   "source": [
    "# 問題5 時間の計測"
   ]
  },
  {
   "cell_type": "code",
   "execution_count": 11,
   "metadata": {},
   "outputs": [
    {
     "name": "stdout",
     "output_type": "stream",
     "text": [
      "time : 11.878136157989502s\n"
     ]
    }
   ],
   "source": [
    "import time\n",
    "n_iter = 100000\n",
    "lr = 0.00001\n",
    "svc = ScratchSVMClassifier(n_iter = n_iter, lr=lr)\n",
    "t0 = time.time()\n",
    "svc.fit(X_train,y_train)\n",
    "t1 = time.time()\n",
    "print('time : {}s'.format(t1-t0))"
   ]
  },
  {
   "cell_type": "markdown",
   "metadata": {},
   "source": [
    "上記タイムは勾配計算を高速化した結果になります。"
   ]
  },
  {
   "cell_type": "markdown",
   "metadata": {},
   "source": [
    "# 問題6 ロジスティック回帰とSVM "
   ]
  },
  {
   "cell_type": "markdown",
   "metadata": {},
   "source": [
    "ロジスティック回帰は出力された連続値に対して閾値を設けて分類を行う一方で、SVMは直接分類を行う。"
   ]
  },
  {
   "cell_type": "code",
   "execution_count": null,
   "metadata": {},
   "outputs": [],
   "source": []
  },
  {
   "cell_type": "code",
   "execution_count": null,
   "metadata": {},
   "outputs": [],
   "source": []
  }
 ],
 "metadata": {
  "kernelspec": {
   "display_name": "Python 3",
   "language": "python",
   "name": "python3"
  },
  "language_info": {
   "codemirror_mode": {
    "name": "ipython",
    "version": 3
   },
   "file_extension": ".py",
   "mimetype": "text/x-python",
   "name": "python",
   "nbconvert_exporter": "python",
   "pygments_lexer": "ipython3",
   "version": "3.7.3"
  }
 },
 "nbformat": 4,
 "nbformat_minor": 2
}
