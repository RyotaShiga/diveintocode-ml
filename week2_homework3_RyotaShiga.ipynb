{
 "cells": [
  {
   "cell_type": "code",
   "execution_count": 1,
   "metadata": {},
   "outputs": [],
   "source": [
    "import numpy as np\n",
    "a_ndarray = np.array([[-1, 2, 3], [4, -5, 6], [7, 8, -9]])\n",
    "b_ndarray = np.array([[0, 2, 1], [0, 2, -8], [2, 9, -1]])"
   ]
  },
  {
   "cell_type": "markdown",
   "metadata": {},
   "source": [
    "# 問題1 行列を手計算する"
   ]
  },
  {
   "cell_type": "markdown",
   "metadata": {},
   "source": [
    "AとBの行列の積を<br>C=[[c11,c12,c13],<br>\n",
    "                         [c21,c22,c23],<br>\n",
    "                         [c31,c32,c33]]とする\n",
    "                         \n",
    "この時、手計算すると、<br>\n",
    "c11 = (-1)*0 + 2*0 + 3*2=6 <br>\n",
    "c12 = (-1)*2 + 2*2 + 3*9=29<br>\n",
    "c13 = (-1)*1 + 2*(-8) + 3*(-1)=-20<br>\n",
    "c21 = 4*0 + (-5)*0 + 6*2=12<br>\n",
    "c22 = 4*2 + (-5)*2 + 6*9=52<br>\n",
    "c23 = 4*1 + (-5)*(-8) + 6*(-1)=38<br>\n",
    "c31 = 7*0 + 8*0 + (-9)*2=-18<br>\n",
    "c32 = 7*2 + 8*2 + (-9)*9=-51<br>\n",
    "c33 = 7*1 + 8*(-8) + (-9)*(-1)=-48<br>\n",
    "\n",
    "以上より、行列A,Bの積Cは、<br>\n",
    "C=[[6,29,-20],<br>\n",
    "[12,52,38],<br>\n",
    "[-18,-51,-48]]となる\n",
    "\n",
    "\n",
    "               "
   ]
  },
  {
   "cell_type": "markdown",
   "metadata": {},
   "source": [
    "# 問題2 NumPyの関数による計算"
   ]
  },
  {
   "cell_type": "code",
   "execution_count": 2,
   "metadata": {},
   "outputs": [
    {
     "data": {
      "text/plain": [
       "array([[  6,  29, -20],\n",
       "       [ 12,  52,  38],\n",
       "       [-18, -51, -48]])"
      ]
     },
     "execution_count": 2,
     "metadata": {},
     "output_type": "execute_result"
    }
   ],
   "source": [
    "np.dot(a_ndarray,b_ndarray)"
   ]
  },
  {
   "cell_type": "markdown",
   "metadata": {},
   "source": [
    "# 問題3 ある要素の計算を実装"
   ]
  },
  {
   "cell_type": "code",
   "execution_count": 5,
   "metadata": {},
   "outputs": [
    {
     "name": "stdout",
     "output_type": "stream",
     "text": [
      "0行目0列の値は6\n"
     ]
    }
   ],
   "source": [
    "C = np.zeros((3,3))\n",
    "#0行目0列を計算する\n",
    "mat_par_sum = 0\n",
    "for i in range(C.shape[0]):\n",
    "    mat_par_sum += a_ndarray[0,i] * b_ndarray[i,0]\n",
    "print('0行目0列の値は{}'.format(mat_par_sum))"
   ]
  },
  {
   "cell_type": "markdown",
   "metadata": {},
   "source": [
    "# 問題4 行列積を行う関数の作成"
   ]
  },
  {
   "cell_type": "code",
   "execution_count": 10,
   "metadata": {},
   "outputs": [],
   "source": [
    "def calc_matrix(a,b):\n",
    "    C = np.zeros((a.shape[0],b.shape[1]))\n",
    "    for i in range(C.shape[0]):\n",
    "        for j in range(C.shape[1]):\n",
    "            for k in range(a.shape[1]):\n",
    "                 C[i,j] += a[i,k]*b[k,j]\n",
    "    return C\n",
    "    \n",
    "                    "
   ]
  },
  {
   "cell_type": "code",
   "execution_count": 13,
   "metadata": {},
   "outputs": [
    {
     "data": {
      "text/plain": [
       "array([[ 12.,  52.,  38.],\n",
       "       [-18., -51., -48.]])"
      ]
     },
     "execution_count": 13,
     "metadata": {},
     "output_type": "execute_result"
    }
   ],
   "source": [
    "#2 x 3の行列の積の計算なども可能\n",
    "calc_matrix(a_ndarray[1:,:],b_ndarray)"
   ]
  },
  {
   "cell_type": "markdown",
   "metadata": {},
   "source": [
    "# 問題5 計算が定義されない入力を判定する"
   ]
  },
  {
   "cell_type": "code",
   "execution_count": 17,
   "metadata": {},
   "outputs": [],
   "source": [
    "def calc_matrix_and_check(a,b):\n",
    "    C = np.zeros((a.shape[0],b.shape[1]))\n",
    "    if a.shape[1] == b.shape[0]:\n",
    "        for i in range(C.shape[0]):\n",
    "            for j in range(C.shape[1]):\n",
    "                for k in range(a.shape[1]):\n",
    "                    C[i,j] += a[i,k]*b[k,j]\n",
    "        return C\n",
    "    else:\n",
    "        print('{}の形式の行列と{}の形式の積は計算出来ません。'.format(a.shape,b.shape))\n",
    "        \n",
    "        return None"
   ]
  },
  {
   "cell_type": "code",
   "execution_count": 18,
   "metadata": {},
   "outputs": [
    {
     "name": "stdout",
     "output_type": "stream",
     "text": [
      "(2, 3)の形式の行列と(2, 3)の形式の積は計算出来ません。\n"
     ]
    }
   ],
   "source": [
    "d_ndarray_ = np.array([[-1, 2, 3], [4, -5, 6]])\n",
    "e_ndarray = np.array([[-9, 8, 7], [6, -5, 4]])\n",
    "calc_matrix_and_check(d_ndarray_,e_ndarray)"
   ]
  },
  {
   "cell_type": "markdown",
   "metadata": {},
   "source": [
    "# 問題６ 転置"
   ]
  },
  {
   "cell_type": "code",
   "execution_count": 21,
   "metadata": {},
   "outputs": [
    {
     "name": "stdout",
     "output_type": "stream",
     "text": [
      "[[ 33 -28   9]\n",
      " [-48  41  -6]\n",
      " [  9  -6  45]]\n"
     ]
    }
   ],
   "source": [
    "print(np.dot(d_ndarray_.T,e_ndarray))"
   ]
  },
  {
   "cell_type": "code",
   "execution_count": null,
   "metadata": {},
   "outputs": [],
   "source": []
  }
 ],
 "metadata": {
  "kernelspec": {
   "display_name": "Python 3",
   "language": "python",
   "name": "python3"
  },
  "language_info": {
   "codemirror_mode": {
    "name": "ipython",
    "version": 3
   },
   "file_extension": ".py",
   "mimetype": "text/x-python",
   "name": "python",
   "nbconvert_exporter": "python",
   "pygments_lexer": "ipython3",
   "version": "3.7.3"
  }
 },
 "nbformat": 4,
 "nbformat_minor": 2
}
